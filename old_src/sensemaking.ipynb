{
 "cells": [
  {
   "cell_type": "code",
   "execution_count": 32,
   "id": "76481c39-f271-4e6b-a420-48b3a5d2b715",
   "metadata": {},
   "outputs": [],
   "source": [
    "import random\n",
    "import numpy as np\n",
    "import pandas as pd\n",
    "import pylab\n",
    "import matplotlib.pyplot as plt\n",
    "\n",
    "import igraph\n",
    "import networkx as nx\n",
    "\n",
    "from utils import extract_rolx_roles\n",
    "\n",
    "import warnings\n",
    "warnings.filterwarnings('ignore')"
   ]
  },
  {
   "cell_type": "code",
   "execution_count": 2,
   "id": "c1575d8c-1f0a-4f60-a5fa-419297bd240a",
   "metadata": {},
   "outputs": [],
   "source": [
    "N_ROLES = 4\n",
    "\n",
    "edgelist = '../graphs/erasmus.weighted.edgelist'\n",
    "G_nx = nx.read_weighted_edgelist(edgelist, create_using=nx.DiGraph)\n",
    "G = igraph.Graph.from_networkx(G_nx)"
   ]
  },
  {
   "cell_type": "code",
   "execution_count": 3,
   "id": "b592f773-1541-4707-b66d-79151b670d81",
   "metadata": {},
   "outputs": [
    {
     "name": "stdout",
     "output_type": "stream",
     "text": [
      "Creating Vertex/Node Features matrix\n",
      "V is a 3292 by 196 matrix.\n",
      "Node-role matrix is of dimensions 3292 by 4\n",
      "Node-feature matrix is of dimensions 3292 by 8\n",
      "Role-feature matrix is of dimensions 4 by 8\n",
      "Role-neighbor matrix is of dimensions 4 by 4\n"
     ]
    }
   ],
   "source": [
    "V, H, M, K, Q = extract_rolx_roles(G, n_roles=4)"
   ]
  },
  {
   "cell_type": "markdown",
   "id": "f22e490b-6b8b-4a42-bf4c-c48ce125cc0e",
   "metadata": {},
   "source": [
    "## Concat node_feature and node_role Matrices"
   ]
  },
  {
   "cell_type": "code",
   "execution_count": 21,
   "id": "79ba483b-e57e-492e-a5c1-fd453d2c71fd",
   "metadata": {},
   "outputs": [
    {
     "data": {
      "text/html": [
       "<div>\n",
       "<style scoped>\n",
       "    .dataframe tbody tr th:only-of-type {\n",
       "        vertical-align: middle;\n",
       "    }\n",
       "\n",
       "    .dataframe tbody tr th {\n",
       "        vertical-align: top;\n",
       "    }\n",
       "\n",
       "    .dataframe thead th {\n",
       "        text-align: right;\n",
       "    }\n",
       "</style>\n",
       "<table border=\"1\" class=\"dataframe\">\n",
       "  <thead>\n",
       "    <tr style=\"text-align: right;\">\n",
       "      <th></th>\n",
       "      <th>betweenness</th>\n",
       "      <th>closeness</th>\n",
       "      <th>degree</th>\n",
       "      <th>diversity</th>\n",
       "      <th>eccentricity</th>\n",
       "      <th>pagerank</th>\n",
       "      <th>personalized_pagerank</th>\n",
       "      <th>strength</th>\n",
       "      <th>role</th>\n",
       "    </tr>\n",
       "  </thead>\n",
       "  <tbody>\n",
       "    <tr>\n",
       "      <th>A__BADEN01</th>\n",
       "      <td>0.000244</td>\n",
       "      <td>0.017403</td>\n",
       "      <td>0.003210</td>\n",
       "      <td>0.017429</td>\n",
       "      <td>0.019494</td>\n",
       "      <td>0.005429</td>\n",
       "      <td>0.005429</td>\n",
       "      <td>0.003210</td>\n",
       "      <td>1</td>\n",
       "    </tr>\n",
       "    <tr>\n",
       "      <th>B__ANTWERP59</th>\n",
       "      <td>0.018824</td>\n",
       "      <td>0.020344</td>\n",
       "      <td>0.024279</td>\n",
       "      <td>0.017429</td>\n",
       "      <td>0.016245</td>\n",
       "      <td>0.026732</td>\n",
       "      <td>0.026732</td>\n",
       "      <td>0.024279</td>\n",
       "      <td>0</td>\n",
       "    </tr>\n",
       "    <tr>\n",
       "      <th>D__BREMEN01</th>\n",
       "      <td>0.024836</td>\n",
       "      <td>0.021462</td>\n",
       "      <td>0.047355</td>\n",
       "      <td>0.017429</td>\n",
       "      <td>0.016245</td>\n",
       "      <td>0.040601</td>\n",
       "      <td>0.040601</td>\n",
       "      <td>0.047355</td>\n",
       "      <td>0</td>\n",
       "    </tr>\n",
       "    <tr>\n",
       "      <th>D__POTSDAM01</th>\n",
       "      <td>0.014553</td>\n",
       "      <td>0.021015</td>\n",
       "      <td>0.040432</td>\n",
       "      <td>0.017429</td>\n",
       "      <td>0.019494</td>\n",
       "      <td>0.036894</td>\n",
       "      <td>0.036894</td>\n",
       "      <td>0.040432</td>\n",
       "      <td>0</td>\n",
       "    </tr>\n",
       "    <tr>\n",
       "      <th>E__LAS-PAL01</th>\n",
       "      <td>0.072978</td>\n",
       "      <td>0.021365</td>\n",
       "      <td>0.062605</td>\n",
       "      <td>0.017429</td>\n",
       "      <td>0.019494</td>\n",
       "      <td>0.061265</td>\n",
       "      <td>0.061265</td>\n",
       "      <td>0.062605</td>\n",
       "      <td>0</td>\n",
       "    </tr>\n",
       "    <tr>\n",
       "      <th>...</th>\n",
       "      <td>...</td>\n",
       "      <td>...</td>\n",
       "      <td>...</td>\n",
       "      <td>...</td>\n",
       "      <td>...</td>\n",
       "      <td>...</td>\n",
       "      <td>...</td>\n",
       "      <td>...</td>\n",
       "      <td>...</td>\n",
       "    </tr>\n",
       "    <tr>\n",
       "      <th>TR_YOZGAT01</th>\n",
       "      <td>0.000000</td>\n",
       "      <td>0.016026</td>\n",
       "      <td>0.001104</td>\n",
       "      <td>0.017429</td>\n",
       "      <td>0.019494</td>\n",
       "      <td>0.001865</td>\n",
       "      <td>0.001865</td>\n",
       "      <td>0.001104</td>\n",
       "      <td>3</td>\n",
       "    </tr>\n",
       "    <tr>\n",
       "      <th>UK_DUNDEE04</th>\n",
       "      <td>0.000000</td>\n",
       "      <td>0.013642</td>\n",
       "      <td>0.000100</td>\n",
       "      <td>0.017429</td>\n",
       "      <td>0.019494</td>\n",
       "      <td>0.001865</td>\n",
       "      <td>0.001865</td>\n",
       "      <td>0.000100</td>\n",
       "      <td>3</td>\n",
       "    </tr>\n",
       "    <tr>\n",
       "      <th>Unknown_BG</th>\n",
       "      <td>0.000000</td>\n",
       "      <td>0.014607</td>\n",
       "      <td>0.000100</td>\n",
       "      <td>0.017429</td>\n",
       "      <td>0.019494</td>\n",
       "      <td>0.001865</td>\n",
       "      <td>0.001865</td>\n",
       "      <td>0.000100</td>\n",
       "      <td>1</td>\n",
       "    </tr>\n",
       "    <tr>\n",
       "      <th>Unknown_EE</th>\n",
       "      <td>0.000000</td>\n",
       "      <td>0.014529</td>\n",
       "      <td>0.000100</td>\n",
       "      <td>0.017429</td>\n",
       "      <td>0.022743</td>\n",
       "      <td>0.001865</td>\n",
       "      <td>0.001865</td>\n",
       "      <td>0.000100</td>\n",
       "      <td>1</td>\n",
       "    </tr>\n",
       "    <tr>\n",
       "      <th>Unknown_IE</th>\n",
       "      <td>0.000000</td>\n",
       "      <td>0.014694</td>\n",
       "      <td>0.000201</td>\n",
       "      <td>0.017429</td>\n",
       "      <td>0.019494</td>\n",
       "      <td>0.001865</td>\n",
       "      <td>0.001865</td>\n",
       "      <td>0.000201</td>\n",
       "      <td>1</td>\n",
       "    </tr>\n",
       "  </tbody>\n",
       "</table>\n",
       "<p>3292 rows × 9 columns</p>\n",
       "</div>"
      ],
      "text/plain": [
       "              betweenness  closeness    degree  diversity  eccentricity  \\\n",
       "A__BADEN01       0.000244   0.017403  0.003210   0.017429      0.019494   \n",
       "B__ANTWERP59     0.018824   0.020344  0.024279   0.017429      0.016245   \n",
       "D__BREMEN01      0.024836   0.021462  0.047355   0.017429      0.016245   \n",
       "D__POTSDAM01     0.014553   0.021015  0.040432   0.017429      0.019494   \n",
       "E__LAS-PAL01     0.072978   0.021365  0.062605   0.017429      0.019494   \n",
       "...                   ...        ...       ...        ...           ...   \n",
       "TR_YOZGAT01      0.000000   0.016026  0.001104   0.017429      0.019494   \n",
       "UK_DUNDEE04      0.000000   0.013642  0.000100   0.017429      0.019494   \n",
       "Unknown_BG       0.000000   0.014607  0.000100   0.017429      0.019494   \n",
       "Unknown_EE       0.000000   0.014529  0.000100   0.017429      0.022743   \n",
       "Unknown_IE       0.000000   0.014694  0.000201   0.017429      0.019494   \n",
       "\n",
       "              pagerank  personalized_pagerank  strength role  \n",
       "A__BADEN01    0.005429               0.005429  0.003210    1  \n",
       "B__ANTWERP59  0.026732               0.026732  0.024279    0  \n",
       "D__BREMEN01   0.040601               0.040601  0.047355    0  \n",
       "D__POTSDAM01  0.036894               0.036894  0.040432    0  \n",
       "E__LAS-PAL01  0.061265               0.061265  0.062605    0  \n",
       "...                ...                    ...       ...  ...  \n",
       "TR_YOZGAT01   0.001865               0.001865  0.001104    3  \n",
       "UK_DUNDEE04   0.001865               0.001865  0.000100    3  \n",
       "Unknown_BG    0.001865               0.001865  0.000100    1  \n",
       "Unknown_EE    0.001865               0.001865  0.000100    1  \n",
       "Unknown_IE    0.001865               0.001865  0.000201    1  \n",
       "\n",
       "[3292 rows x 9 columns]"
      ]
     },
     "metadata": {},
     "output_type": "display_data"
    }
   ],
   "source": [
    "node_role_percentage = np.asarray(H)\n",
    "# df_node_role = pd.DataFrame(index=np.arange(H.shape[0]),columns=['role'])\n",
    "df_node_role = pd.DataFrame(index=list(G_nx.nodes),columns=['role'])\n",
    "for i, node in enumerate(node_role_percentage):\n",
    "    r = np.argmax(node)\n",
    "    df_node_role.iloc[i] = r\n",
    "\n",
    "features = [ 'betweenness', 'closeness', 'degree', 'diversity', 'eccentricity', 'pagerank', 'personalized_pagerank', 'strength' ]\n",
    "df_node_feature = pd.DataFrame(data=M, index=list(G_nx.nodes), columns=features)\n",
    "\n",
    "df_node_feature_role = pd.concat([df_node_feature, df_node_role], axis=1)\n",
    "display(df_node_feature_role)\n",
    "\n",
    "# save the file\n",
    "# df_node_feature_role.to_csv('../data/node_feature_role.csv')"
   ]
  },
  {
   "cell_type": "markdown",
   "id": "0e73dff1-42a2-4260-aacd-f7be949b9f98",
   "metadata": {},
   "source": [
    "## Display the Network"
   ]
  },
  {
   "cell_type": "code",
   "execution_count": 23,
   "id": "298b06d2-ad18-472e-99a2-13f34c7cd827",
   "metadata": {},
   "outputs": [
    {
     "data": {
      "text/html": [
       "<div>\n",
       "<style scoped>\n",
       "    .dataframe tbody tr th:only-of-type {\n",
       "        vertical-align: middle;\n",
       "    }\n",
       "\n",
       "    .dataframe tbody tr th {\n",
       "        vertical-align: top;\n",
       "    }\n",
       "\n",
       "    .dataframe thead th {\n",
       "        text-align: right;\n",
       "    }\n",
       "</style>\n",
       "<table border=\"1\" class=\"dataframe\">\n",
       "  <thead>\n",
       "    <tr style=\"text-align: right;\">\n",
       "      <th></th>\n",
       "      <th>index</th>\n",
       "      <th>role</th>\n",
       "    </tr>\n",
       "  </thead>\n",
       "  <tbody>\n",
       "    <tr>\n",
       "      <th>506</th>\n",
       "      <td>F__MULHOUS01</td>\n",
       "      <td>0</td>\n",
       "    </tr>\n",
       "    <tr>\n",
       "      <th>1029</th>\n",
       "      <td>F__MARSEIL94</td>\n",
       "      <td>0</td>\n",
       "    </tr>\n",
       "    <tr>\n",
       "      <th>13</th>\n",
       "      <td>UK_MANCHES04</td>\n",
       "      <td>0</td>\n",
       "    </tr>\n",
       "    <tr>\n",
       "      <th>995</th>\n",
       "      <td>D__STUTTGA02</td>\n",
       "      <td>0</td>\n",
       "    </tr>\n",
       "    <tr>\n",
       "      <th>702</th>\n",
       "      <td>F__LYON12</td>\n",
       "      <td>0</td>\n",
       "    </tr>\n",
       "    <tr>\n",
       "      <th>...</th>\n",
       "      <td>...</td>\n",
       "      <td>...</td>\n",
       "    </tr>\n",
       "    <tr>\n",
       "      <th>2983</th>\n",
       "      <td>UK_PERTH02</td>\n",
       "      <td>3</td>\n",
       "    </tr>\n",
       "    <tr>\n",
       "      <th>2654</th>\n",
       "      <td>TR_ORDU01</td>\n",
       "      <td>3</td>\n",
       "    </tr>\n",
       "    <tr>\n",
       "      <th>3055</th>\n",
       "      <td>UK_LONDOND02</td>\n",
       "      <td>3</td>\n",
       "    </tr>\n",
       "    <tr>\n",
       "      <th>3248</th>\n",
       "      <td>RO_BUCURES17</td>\n",
       "      <td>3</td>\n",
       "    </tr>\n",
       "    <tr>\n",
       "      <th>2992</th>\n",
       "      <td>E__SORIA01</td>\n",
       "      <td>3</td>\n",
       "    </tr>\n",
       "  </tbody>\n",
       "</table>\n",
       "<p>330 rows × 2 columns</p>\n",
       "</div>"
      ],
      "text/plain": [
       "             index role\n",
       "506   F__MULHOUS01    0\n",
       "1029  F__MARSEIL94    0\n",
       "13    UK_MANCHES04    0\n",
       "995   D__STUTTGA02    0\n",
       "702      F__LYON12    0\n",
       "...            ...  ...\n",
       "2983    UK_PERTH02    3\n",
       "2654     TR_ORDU01    3\n",
       "3055  UK_LONDOND02    3\n",
       "3248  RO_BUCURES17    3\n",
       "2992    E__SORIA01    3\n",
       "\n",
       "[330 rows x 2 columns]"
      ]
     },
     "metadata": {},
     "output_type": "display_data"
    }
   ],
   "source": [
    "# show only portion of the nodes in the network\n",
    "# df_node_role.reset_index(inplace=True)\n",
    "selected_indices = []\n",
    "percentage = 0.1\n",
    "\n",
    "for n in range(N_ROLES):\n",
    "    indices = df_node_role.index[(df_node_role['role'] == n)].tolist()\n",
    "    # print(indices)\n",
    "    selected_indices.extend(random.sample(indices, round(len(indices) * percentage)))\n",
    "\n",
    "df_draw = df_node_role.iloc[selected_indices].copy()\n",
    "# display(df_draw)"
   ]
  },
  {
   "cell_type": "code",
   "execution_count": 24,
   "id": "a800ddda-be34-469e-9961-717ec521de52",
   "metadata": {
    "tags": []
   },
   "outputs": [],
   "source": [
    "color_map = []\n",
    "colors = ['tab:blue', 'tab:orange', 'tab:green', 'tab:red']\n",
    "\n",
    "for i, r in df_draw.iterrows():\n",
    "    color_map.append(colors[r['role']])\n",
    "    \n",
    "mapping = {}\n",
    "for i, name in enumerate(list(G_nx.nodes)):\n",
    "    mapping[name] = i\n",
    "# print(mapping)\n",
    "G_relabel = nx.relabel_nodes(G_nx, mapping)"
   ]
  },
  {
   "cell_type": "code",
   "execution_count": 31,
   "id": "3c8ce336-a8a2-4a2d-8752-328fc190e9bb",
   "metadata": {},
   "outputs": [
    {
     "data": {
      "image/png": "[encoded data removed]",
      "text/plain": [
       "<Figure size 1080x720 with 1 Axes>"
      ]
     },
     "metadata": {},
     "output_type": "display_data"
    }
   ],
   "source": [
    "pos = nx.spring_layout(G_relabel)\n",
    "sg = G_relabel.subgraph(selected_indices)\n",
    "\n",
    "# draw graph\n",
    "options = {\n",
    "    'pos': pos,\n",
    "    'node_color': color_map,\n",
    "    'node_size': 50,\n",
    "    'linewidths': 0,\n",
    "    'width': 0.1,\n",
    "    'with_labels': False,}\n",
    "\n",
    "pylab.figure(figsize=(15,10))\n",
    "nx.draw_networkx(sg, **options)\n",
    "pylab.show()"
   ]
  },
  {
   "cell_type": "markdown",
   "id": "6d9b2d02-e958-4b89-bff8-7b3a52cda29a",
   "metadata": {},
   "source": [
    "## Sensemaking"
   ]
  },
  {
   "cell_type": "code",
   "execution_count": 33,
   "id": "bf3b9dbd-936c-4329-8282-93fd5fb4946b",
   "metadata": {},
   "outputs": [
    {
     "data": {
      "image/png": "[encoded data removed]",
      "text/plain": [
       "<Figure size 1080x504 with 1 Axes>"
      ]
     },
     "metadata": {
      "needs_background": "light"
     },
     "output_type": "display_data"
    }
   ],
   "source": [
    "n_features = len(features)\n",
    "\n",
    "index = np.arange(n_features)\n",
    "bar_width = .15\n",
    "\n",
    "fig = plt.figure(figsize=(15,7))\n",
    "fig.suptitle('NodeSense')\n",
    "\n",
    "rect1 = plt.bar(index, np.asarray(K[0,:]).flatten(), bar_width, label='role 1')\n",
    "rect2 = plt.bar(index+bar_width, np.asarray(K[1,:]).flatten(), bar_width, label='role 2')\n",
    "rect3 = plt.bar(index+bar_width*2, np.asarray(K[2,:]).flatten(), bar_width, label='role 3')\n",
    "rect4 = plt.bar(index+bar_width*3, np.asarray(K[3,:]).flatten(), bar_width, label='role 4')\n",
    "\n",
    "plt.legend()\n",
    "plt.xticks(index+bar_width, features)\n",
    "plt.show()"
   ]
  },
  {
   "cell_type": "code",
   "execution_count": 34,
   "id": "f7e65cd3-0104-42ab-8770-1a86b5a472c4",
   "metadata": {},
   "outputs": [
    {
     "data": {
      "image/png": "[encoded data removed]",
      "text/plain": [
       "<Figure size 720x288 with 1 Axes>"
      ]
     },
     "metadata": {
      "needs_background": "light"
     },
     "output_type": "display_data"
    }
   ],
   "source": [
    "n_roles = 4\n",
    "index = np.arange(n_roles)\n",
    "bar_width = .15\n",
    "\n",
    "fig = plt.figure(figsize=(10,4))\n",
    "fig.suptitle('NeighborSense')\n",
    "\n",
    "rect1 = plt.bar(index, np.asarray(Q[0,:]).flatten(), bar_width, label='role 1')\n",
    "rect2 = plt.bar(index+bar_width, np.asarray(Q[1,:]).flatten(), bar_width, label='role 2')\n",
    "rect3 = plt.bar(index+bar_width*2, np.asarray(Q[2,:]).flatten(), bar_width, label='role 3')\n",
    "rect4 = plt.bar(index+bar_width*3, np.asarray(Q[3,:]).flatten(), bar_width, label='role 4')\n",
    "\n",
    "plt.legend()\n",
    "plt.xticks(index+bar_width, ['role 1', 'role 2', 'role 3', 'role 4'])\n",
    "plt.show()"
   ]
  },
  {
   "cell_type": "markdown",
   "id": "cbf1bebc-a5f5-4b89-91af-6250848c21ca",
   "metadata": {},
   "source": [
    "## Reference\n",
    "- [graphwave](https://github.com/snap-stanford/graphwave/blob/master/graphwave/benchmark_algorithms/roleX.py)"
   ]
  }
 ],
 "metadata": {
  "kernelspec": {
   "display_name": "Python 3",
   "language": "python",
   "name": "python3"
  },
  "language_info": {
   "codemirror_mode": {
    "name": "ipython",
    "version": 3
   },
   "file_extension": ".py",
   "mimetype": "text/x-python",
   "name": "python",
   "nbconvert_exporter": "python",
   "pygments_lexer": "ipython3",
   "version": "3.7.10"
  }
 },
 "nbformat": 4,
 "nbformat_minor": 5
}
