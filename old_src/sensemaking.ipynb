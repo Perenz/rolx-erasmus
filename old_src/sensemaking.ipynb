{
 "cells": [
  {
   "cell_type": "markdown",
   "id": "c27eab48-01be-4fa5-a9e7-ad33410fc864",
   "metadata": {},
   "source": [
    "TODO\n",
    "- [X] Compute neighborsense\n",
    "- [ ] Unify to use NetworkX\n",
    "\n",
    "Reference\n",
    "- [graphwave](https://github.com/snap-stanford/graphwave/blob/master/graphwave/benchmark_algorithms/roleX.py)"
   ]
  },
  {
   "cell_type": "code",
   "execution_count": 1,
   "id": "76481c39-f271-4e6b-a420-48b3a5d2b715",
   "metadata": {},
   "outputs": [],
   "source": [
    "import sys\n",
    "import math\n",
    "\n",
    "import numpy as np\n",
    "from numpy.linalg import lstsq\n",
    "from numpy import dot\n",
    "import matplotlib.pyplot as plt\n",
    "\n",
    "from scipy.cluster.vq import kmeans2, vq\n",
    "from scipy.linalg import norm\n",
    "from scipy.optimize import minimize\n",
    "from sklearn.decomposition import NMF\n",
    "\n",
    "import pandas as pd\n",
    "\n",
    "import igraph\n",
    "import networkx as nx"
   ]
  },
  {
   "cell_type": "code",
   "execution_count": 2,
   "id": "737c2c6d-4dc1-401e-95ad-e05482b30f87",
   "metadata": {},
   "outputs": [],
   "source": [
    "def rank_indices(edgelist, n):\n",
    "    \"\"\"\n",
    "    Get the indices of the n nodes with higher degree\n",
    "    \"\"\"\n",
    "    \n",
    "    g = nx.read_weighted_edgelist(edgelist, create_using=nx.DiGraph)\n",
    "    # print(\"# nodes:\", g.number_of_nodes())\n",
    "    # print(\"# edges:\", g.number_of_edges())\n",
    "    \n",
    "    node_degree = {'node': [k for k, v in g.degree()], 'degree': [v for k, v in g.degree()]}\n",
    "    df_node_degree = pd.DataFrame.from_dict(node_degree).sort_values(by=['degree'], ascending=False)\n",
    "    df = df_node_degree.iloc[:n,:].copy()\n",
    "    \n",
    "    return df.index"
   ]
  },
  {
   "cell_type": "code",
   "execution_count": 3,
   "id": "c1575d8c-1f0a-4f60-a5fa-419297bd240a",
   "metadata": {},
   "outputs": [],
   "source": [
    "edgelsit = '../graphs/erasmus.edgelist'\n",
    "indices = rank_indices(edgelsit, 1000)"
   ]
  },
  {
   "cell_type": "code",
   "execution_count": 4,
   "id": "88fb7667-f638-4473-8d4a-85e7130e9de0",
   "metadata": {},
   "outputs": [],
   "source": [
    "students = pd.read_csv(\"../data/6-student_merged.csv\", sep=\";\", dtype={'from_hei': \"string\", 'to_hei': \"string\", 'level': 'category', 'language:': \"category\",\n",
    "                       'year': \"category\", 'gender': \"category\", 'nationality': \"category\", 'previous': \"category\", 'qualification': \"category\", 'languageprep': \"category\"})\n",
    "\n",
    "# Remove white spaces\n",
    "students['from_hei'] = students['from_hei'].str.replace(\" \", \"_\")\n",
    "students['to_hei'] = students['to_hei'].str.replace(\" \", \"_\")\n",
    "\n",
    "df = students.iloc[indices].copy()"
   ]
  },
  {
   "cell_type": "code",
   "execution_count": 5,
   "id": "7d975c7b-74b0-457f-b89f-0058ffccd5bb",
   "metadata": {},
   "outputs": [
    {
     "name": "stdout",
     "output_type": "stream",
     "text": [
      "# of nodes:  337\n",
      "# of edges:  569\n"
     ]
    }
   ],
   "source": [
    "g = nx.DiGraph()\n",
    "\n",
    "# Get nodes (hei codes)\n",
    "# nodes_out = set(df.from_hei.unique())\n",
    "# nodes_in = set(df.to_hei.unique())\n",
    "# nodes = nodes_out.union(nodes_in)\n",
    "\n",
    "# Get edges\n",
    "# print(nodes)\n",
    "grouped_st = df.groupby(['from_hei', 'to_hei'])#.size()\n",
    "# print(grouped_st)\n",
    "for key, el in grouped_st:\n",
    "    # print(len(el)\n",
    "    # Node for key[0], key[1], len(el)\n",
    "    g.add_edge(key[0], key[1], weight=len(el))\n",
    "    \n",
    "print(\"# of nodes: \", g.number_of_nodes())\n",
    "print(\"# of edges: \", g.number_of_edges())"
   ]
  },
  {
   "cell_type": "code",
   "execution_count": 6,
   "id": "0b09d442-5d91-4ea7-8cab-f8ecf7c5c2d0",
   "metadata": {},
   "outputs": [],
   "source": [
    "G = igraph.Graph.from_networkx(g)"
   ]
  },
  {
   "cell_type": "code",
   "execution_count": null,
   "id": "e4213351-db4b-4f1e-be0f-f1599a33813f",
   "metadata": {
    "tags": []
   },
   "outputs": [],
   "source": [
    "\"\"\"\n",
    "Toy graph is used to understand the rationale of sensemaking.\n",
    "\"\"\"\n",
    "\n",
    "g = nx.DiGraph(directed=True)\n",
    "\n",
    "g.add_edges_from([('A', 'B'),('C','D'),('G','D')], weight=1)\n",
    "g.add_edges_from([('D','A'),('D','E'),('B','D'),('D','E')], weight=2)\n",
    "g.add_edges_from([('B','C'),('E','F')], weight=3)\n",
    "g.add_edges_from([('C','F')], weight=4)\n",
    "\n",
    "pos = nx.get_node_attributes(g, 'pos')\n",
    "labels = nx.get_edge_attributes(g,'weight')\n",
    "\n",
    "nx.draw_networkx(g, arrows=True)\n",
    "# _ = nx.draw_networkx_edge_labels(g, pos=pos, edge_labels=labels)\n",
    "G = igraph.Graph.from_networkx(g)\n",
    "# igraph.plot(G)"
   ]
  },
  {
   "cell_type": "markdown",
   "id": "67ca4cd1-d644-46de-9663-defea9f874a8",
   "metadata": {},
   "source": [
    "[Draw weighted directed graph](https://stackoverflow.com/questions/20133479/how-to-draw-directed-graphs-using-networkx-in-python)"
   ]
  },
  {
   "cell_type": "code",
   "execution_count": 7,
   "id": "15d83c04-8c0e-4981-9390-b1e3b7442ff1",
   "metadata": {},
   "outputs": [],
   "source": [
    "def extract_rolx_roles(G, n_roles=2):\n",
    "    \"\"\"\n",
    "    Top-level function. Extracts node-role matrix and sensemaking role-feature matrix as necessary.\n",
    "    \"\"\"\n",
    "\n",
    "    # Feature grouping\n",
    "    # Get recursive features for each vertex, and factorize V to obtain H(basis) and F(coef).\n",
    "    # H: node's membership in each role\n",
    "    # F: role's contrubution to each feature\n",
    "    print(\"Creating Vertex/Node Features matrix\")\n",
    "    V = vertex_features(G)\n",
    "    print(\"V is a %s by %s matrix.\" % V.shape)\n",
    "    basis, coef = get_factorization(V, n_roles)\n",
    "\n",
    "    H = basis\n",
    "    print(\"Node-role matrix is of dimensions %s by %s\" % H.shape)\n",
    "    # print(H)\n",
    "    \n",
    "    # nodesense: node contribution to node measurements/features\n",
    "    K = make_sense(G, H)\n",
    "    print(\"Role-feature matrix is of dimensions %s by %s\" % K.shape)\n",
    "    # print(K)\n",
    "    \n",
    "    # add 'role' property to each node \n",
    "    node_role = np.asarray(H)\n",
    "    for i, node in enumerate(node_role):\n",
    "        G.vs[i][\"role\"] = np.argmax(node)\n",
    "        \n",
    "    # compute neighbor matrix N\n",
    "    N = np.zeros((G.vcount(), n_roles))\n",
    "    for i in range(G.vcount()):\n",
    "        neis = [n[\"role\"] for n in G.vs[i].neighbors()]\n",
    "        role_count = []\n",
    "        for role in range(n_roles):\n",
    "            role_count.append(neis.count(role))\n",
    "        N[i,:] = np.array(role_count) / len(neis)\n",
    "\n",
    "    Q = complete_factor(H, np.asmatrix(N), h_on_left=True)\n",
    "    print(\"Role-neighbor matrix is of dimensions %s by %s\" % Q.shape)\n",
    "    \n",
    "    return H, K, Q"
   ]
  },
  {
   "cell_type": "code",
   "execution_count": null,
   "id": "79ba483b-e57e-492e-a5c1-fd453d2c71fd",
   "metadata": {},
   "outputs": [],
   "source": [
    "color_map = []\n",
    "colors = ['tab:blue', 'tab:orange']\n",
    "node_role = np.asarray(H)\n",
    "for node in node_role:\n",
    "    color_map.append(colors[np.argmax(node)])"
   ]
  },
  {
   "cell_type": "code",
   "execution_count": 8,
   "id": "5fbf9d43-9819-46ea-8e04-7208feda3927",
   "metadata": {},
   "outputs": [],
   "source": [
    "def recursive_feature(G, f, n):\n",
    "    \"\"\"\n",
    "        G: iGraph graph with annotations\n",
    "        func: string containing function name\n",
    "        n: int, recursion level\n",
    "        Computes the given function recursively on each vertex\n",
    "        Current precondition: already have run the computation for G, func, n-1.\n",
    "    \"\"\"\n",
    "    return np.matrix(recursive_feature_array(G,f,n))\n",
    "\n",
    "def recursive_feature_array(G, func, n):\n",
    "    \"\"\"\n",
    "    Computes recursive features of the graph G for the provided function of G, returning\n",
    "    the matrix representing the nth level of the recursion.\n",
    "    \"\"\"\n",
    "    attr_name = \"_rolx_\" + func.__name__ + \"_\" + str(n)\n",
    "\n",
    "    if attr_name in G.vs.attributes():\n",
    "        result = np.array(G.vs[attr_name])\n",
    "        return result\n",
    "\n",
    "    if n==0:\n",
    "        stats = func(G)\n",
    "        result = np.array([[x] for x in stats])\n",
    "        result = result * 1.0 \n",
    "        G.vs[attr_name] = result\n",
    "        return result\n",
    "\n",
    "    prev_stats = recursive_feature_array(G, func, n-1)\n",
    "    all_neighbor_stats = []\n",
    "    for v in G.vs:\n",
    "        neighbors = G.neighbors(v)\n",
    "        degree = len(neighbors)\n",
    "        if degree == 0: \n",
    "            neighbor_avgs = neighbor_sums = np.zeros(prev_stats[0].size)\n",
    "        else: \n",
    "            prev_neighbor_stats = [prev_stats[x] for x in neighbors]\n",
    "            neighbor_sums_vec = sum(prev_neighbor_stats)\n",
    "            neighbor_avgs_vec = neighbor_sums_vec / degree\n",
    "\n",
    "        v_stats = np.concatenate((neighbor_sums_vec, neighbor_avgs_vec), axis=0)\n",
    "        all_neighbor_stats.append(v_stats)\n",
    "\n",
    "    G.vs[attr_name] = all_neighbor_stats\n",
    "    return all_neighbor_stats"
   ]
  },
  {
   "cell_type": "code",
   "execution_count": 9,
   "id": "425da79d-33e1-4e24-ae4c-4a2f15bf3517",
   "metadata": {},
   "outputs": [],
   "source": [
    "def add_col(V, b, insert_col):\n",
    "    \"\"\" Add the given column b to the matrix V, enlarging the matrix if necessary. \"\"\" \n",
    "    rows, cols = V.shape\n",
    "    if insert_col == cols: # need to resize V\n",
    "        zeros = np.matrix(np.zeros((rows, 1)))\n",
    "        V = np.concatenate((V, zeros), axis=1)\n",
    "    V[:, insert_col] = b\n",
    "    return V\n",
    "\n",
    "def approx_linear_solution(w, A, threshold=1e-15):\n",
    "    '''\n",
    "    Checks if w is linearly dependent on the columns of A, this is done by solving the least squares problem (LSP)\n",
    "        min || w - Ax ||_2^2\n",
    "         x\n",
    "    and checking if || w - Ax_star || <= threshold, where x_star is the arg_minimizer of the LSP\n",
    "    w: column vector\n",
    "    A: matrix\n",
    "    threshold: int\n",
    "    '''\n",
    "    x0 = np.zeros(A.shape[1])\n",
    "    x_star, residuals, rank, s = lstsq(A, w, rcond=None)\n",
    "    norm_residual = norm(residuals)\n",
    "    result = True if norm_residual <= threshold else False\n",
    "    return (result, norm_residual, x_star)\n",
    "\n",
    "def degree(G):\n",
    "    \"\"\" Auxiliary function to calculate the degree of each element of G. \"\"\"\n",
    "    return G.degree()\n",
    "\n",
    "def vertex_egonet(G, v):\n",
    "    \"\"\" Computes the number of edges in the ego network of the vertex v. \"\"\"\n",
    "    ego_network = G.induced_subgraph(G.neighborhood(v))\n",
    "    ego_edges = ego_network.ecount()\n",
    "    return ego_edges\n",
    "\n",
    "def egonet(G):\n",
    "    \"\"\" Computes the ego network for all vertices v in G. \"\"\"\n",
    "    return [vertex_egonet(G, v) for v in G.vs]\n",
    "\n",
    "def vertex_egonet_out(G, v):\n",
    "    \"\"\" Computes the outgoing edges from the ego network of the vertex v in G. \"\"\"\n",
    "    neighbors = G.neighborhood(v)\n",
    "    ego_network = G.induced_subgraph(neighbors)\n",
    "    ego_edges = ego_network.ecount()\n",
    "    degree_sum = sum([G.degree(v) for v in neighbors])\n",
    "    out_edges = degree_sum - 2*ego_edges #Summing over degree will doublecount every edge within the ego network\n",
    "    return out_edges\n",
    "\n",
    "def egonet_out(G):\n",
    "    \"\"\" Computes the number of outgoing ego network edges for every vertex in G. \"\"\"\n",
    "    return [vertex_egonet_out(G, v) for v in G.vs]"
   ]
  },
  {
   "cell_type": "code",
   "execution_count": 10,
   "id": "f22ad30d-6ae9-4411-84c6-0024aa8731f5",
   "metadata": {},
   "outputs": [],
   "source": [
    "def vertex_features(g):\n",
    "    \"\"\" \n",
    "    Constructs a vertex feature matrix using recursive feature generation, then uses least-squares solving\n",
    "    to eliminate those exhibiting approximate linear dependence.\n",
    "    \"\"\"\n",
    "    G = g.copy()\n",
    "    num_rows = G.vcount()\n",
    "\n",
    "    features = [degree, egonet, egonet_out]\n",
    "    V = np.matrix(np.zeros((num_rows, 16*len(features))))\n",
    "\n",
    "    next_feature_col = 0\n",
    "    for feature in features:\n",
    "        base = recursive_feature(G, feature, 0)\n",
    "        base = base/norm(base)\n",
    "        V = add_col(V, base, next_feature_col)\n",
    "\n",
    "        next_feature_col += 1\n",
    "        level = 1\n",
    "\n",
    "        accepted_features = True\n",
    "        while accepted_features:\n",
    "            accepted_features = False\n",
    "            feature_matrix = recursive_feature(G, feature, level)\n",
    "            rows, cols = feature_matrix.shape\n",
    "\n",
    "            for i in range(cols):\n",
    "                b = feature_matrix[:,i]\n",
    "                b = b/norm(b)\n",
    "                mat = V[:,:next_feature_col]\n",
    "                threshold = 10.0**(-15+level)\n",
    "                (is_approx_soln, _, _) = approx_linear_solution(b, mat, threshold)\n",
    "                if not is_approx_soln:\n",
    "                    V = add_col(V, b, next_feature_col)\n",
    "                    next_feature_col += 1\n",
    "                    accepted_features = True\n",
    "            level += 1\n",
    "\n",
    "    return V[:, :next_feature_col]"
   ]
  },
  {
   "cell_type": "code",
   "execution_count": 11,
   "id": "95461912-e198-4b9f-bde7-485494e7f3e8",
   "metadata": {},
   "outputs": [],
   "source": [
    "def get_factorization(V, num_roles):\n",
    "    \"\"\" Obtains a nonnegative matrix factorization of the matrix V with num_roles intermediate roles. \"\"\"\n",
    "    model = NMF(n_components=num_roles, init='random', random_state=0)\n",
    "    model.fit(V)\n",
    "    \n",
    "    node_roles = model.transform(V)\n",
    "    role_features = model.components_\n",
    "    \n",
    "    return np.matrix(node_roles), np.matrix(role_features)"
   ]
  },
  {
   "cell_type": "code",
   "execution_count": 12,
   "id": "bf064930-2711-4e16-bb9d-a4bb03094f06",
   "metadata": {},
   "outputs": [],
   "source": [
    "def make_sense(G, H):\n",
    "    \"\"\" Given graph G and node-role matrix H, returns a role-feature matrix K for sensemaking analyses of roles. \"\"\"\n",
    "    features = [ 'betweenness', 'closeness', 'degree', 'diversity', 'eccentricity', 'pagerank', 'personalized_pagerank', 'strength' ]\n",
    "    feature_fns = [ getattr(G, f) for f in features ]\n",
    "    feature_matrix = [ func() for func in feature_fns ]\n",
    "    feature_matrix = np.matrix(feature_matrix).transpose()\n",
    "\n",
    "    #print(feature_matrix)\n",
    "\n",
    "    M = feature_matrix\n",
    "    for i in range(M.shape[1]):\n",
    "        M[:,i] = M[:,i] / norm(M[:,i])\n",
    "\n",
    "    K = complete_factor(H, M, h_on_left=True)\n",
    "    #print(K)\n",
    "\n",
    "    return K\n",
    "\n",
    "def sense_residual_right_factor(K, H, M):\n",
    "    K = np.matrix(K).reshape((H.shape[1], M.shape[1]))\n",
    "   # print(M.shape,H.shape,K.shape)\n",
    "    return norm(M - H*K)\n",
    "\n",
    "def complete_factor(H, M, h_on_left=True):\n",
    "    \"\"\"Given nonnegative matrix M and a nonnegative factor H of M, finds the other (nonnegative) factor of M.\n",
    "       H: known factor of matrix M.\n",
    "       M: product matrix.\n",
    "       h_on_left: boolean, true if H is the left factor of M, false if H is the right factor.\n",
    "       If H is left factor, find the matrix K such that HK=M. If H is the right factor, finds W such that WH=M\n",
    "       Result is an appropriately-sized matrix. \"\"\"\n",
    "\n",
    "    if h_on_left:\n",
    "        shape = (H.shape[1], M.shape[1])\n",
    "        residual = sense_residual_right_factor\n",
    "    else:\n",
    "        shape = (M.shape[0], H.shape[0])\n",
    "        residual = sense_residual_left_factor\n",
    "\n",
    "    size = shape[0] * shape[1]\n",
    "    guess = np.random.rand(size)\n",
    "    bounds = [(0, None)] * size # (all elements of matrix must be nonnegative)\n",
    "    result = minimize(residual, guess, args=(H, M), method='L-BFGS-B', bounds=bounds)\n",
    "\n",
    "    x = result[\"x\"]\n",
    "    G = np.matrix(x).reshape(shape)\n",
    "    return G"
   ]
  },
  {
   "cell_type": "code",
   "execution_count": 13,
   "id": "056d66c1-5255-448f-9e1a-4922ce6b0256",
   "metadata": {
    "tags": []
   },
   "outputs": [
    {
     "name": "stdout",
     "output_type": "stream",
     "text": [
      "Creating Vertex/Node Features matrix\n",
      "V is a 337 by 160 matrix.\n",
      "Node-role matrix is of dimensions 337 by 3\n",
      "Role-feature matrix is of dimensions 3 by 8\n",
      "Role-neighbor matrix is of dimensions 3 by 3\n"
     ]
    }
   ],
   "source": [
    "H, K, Q = extract_rolx_roles(G, n_roles=3)"
   ]
  },
  {
   "cell_type": "code",
   "execution_count": null,
   "id": "3c8ce336-a8a2-4a2d-8752-328fc190e9bb",
   "metadata": {},
   "outputs": [],
   "source": [
    "# draw graph\n",
    "options = {\n",
    "    'node_color': color_map,\n",
    "    'node_size': 50,\n",
    "    'linewidths': 0,\n",
    "    'width': 0.1,}\n",
    "\n",
    "plt.figure(figsize=(15,10))\n",
    "nx.draw(g, **options)\n",
    "plt.show()"
   ]
  },
  {
   "cell_type": "code",
   "execution_count": 21,
   "id": "bf3b9dbd-936c-4329-8282-93fd5fb4946b",
   "metadata": {},
   "outputs": [
    {
     "data": {
      "image/png": "[encoded data removed]",
      "text/plain": [
       "<Figure size 1080x504 with 1 Axes>"
      ]
     },
     "metadata": {
      "needs_background": "light"
     },
     "output_type": "display_data"
    }
   ],
   "source": [
    "features = [ 'betweenness', 'closeness', 'degree', 'diversity', 'eccentricity', 'pagerank', 'personalized_pagerank', 'strength' ]\n",
    "n_features = len(features)\n",
    "\n",
    "index = np.arange(n_features)\n",
    "bar_width = .2\n",
    "\n",
    "fig = plt.figure(figsize=(15,7))\n",
    "fig.suptitle('NodeSense')\n",
    "\n",
    "rect1 = plt.bar(index, np.asarray(K[0,:]).flatten(), bar_width, label='role 1')\n",
    "rect2 = plt.bar(index+bar_width, np.asarray(K[1,:]).flatten(), bar_width, label='role 2')\n",
    "rect3 = plt.bar(index+bar_width*2, np.asarray(K[2,:]).flatten(), bar_width, label='role 3')\n",
    "\n",
    "plt.legend()\n",
    "plt.xticks(index+bar_width, features)\n",
    "plt.show()"
   ]
  },
  {
   "cell_type": "code",
   "execution_count": 29,
   "id": "f7e65cd3-0104-42ab-8770-1a86b5a472c4",
   "metadata": {},
   "outputs": [
    {
     "data": {
      "image/png": "[encoded data removed]",
      "text/plain": [
       "<Figure size 720x288 with 1 Axes>"
      ]
     },
     "metadata": {
      "needs_background": "light"
     },
     "output_type": "display_data"
    }
   ],
   "source": [
    "n_roles = 3\n",
    "index = np.arange(n_roles)\n",
    "bar_width = .1\n",
    "\n",
    "fig = plt.figure(figsize=(10,4))\n",
    "fig.suptitle('NeighborSense')\n",
    "\n",
    "rect1 = plt.bar(index, np.asarray(Q[0,:]).flatten(), bar_width, label='role 1')\n",
    "rect2 = plt.bar(index+bar_width, np.asarray(Q[1,:]).flatten(), bar_width, label='role 2')\n",
    "rect3 = plt.bar(index+bar_width*2, np.asarray(Q[2,:]).flatten(), bar_width, label='role 3')\n",
    "\n",
    "plt.legend()\n",
    "plt.xticks(index+bar_width, ['role 1', 'role 2', 'role 3'])\n",
    "plt.show()"
   ]
  }
 ],
 "metadata": {
  "kernelspec": {
   "display_name": "Python 3",
   "language": "python",
   "name": "python3"
  },
  "language_info": {
   "codemirror_mode": {
    "name": "ipython",
    "version": 3
   },
   "file_extension": ".py",
   "mimetype": "text/x-python",
   "name": "python",
   "nbconvert_exporter": "python",
   "pygments_lexer": "ipython3",
   "version": "3.7.10"
  }
 },
 "nbformat": 4,
 "nbformat_minor": 5
}
