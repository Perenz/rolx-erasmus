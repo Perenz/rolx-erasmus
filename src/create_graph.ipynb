{
 "cells": [
  {
   "cell_type": "code",
   "execution_count": 1,
   "metadata": {},
   "outputs": [],
   "source": [
    "import pandas as pd\n",
    "import networkx as nx"
   ]
  },
  {
   "cell_type": "code",
   "execution_count": 2,
   "metadata": {},
   "outputs": [],
   "source": [
    "students = pd.read_csv(\"../data/6-student_merged.csv\", sep=\";\", dtype={'from_hei': \"string\", 'to_hei': \"string\", 'level': 'category', 'language:': \"category\",\n",
    "                       'year': \"category\", 'gender': \"category\", 'nationality': \"category\", 'previous': \"category\", 'qualification': \"category\", 'languageprep': \"category\"})\n",
    "\n",
    "# remove white spaces\n",
    "students['from_hei'] = students['from_hei'].str.replace(\" \", \"_\")\n",
    "students['to_hei'] = students['to_hei'].str.replace(\" \", \"_\")\n",
    "# print(students.dtypes)"
   ]
  },
  {
   "cell_type": "code",
   "execution_count": 3,
   "metadata": {},
   "outputs": [
    {
     "name": "stdout",
     "output_type": "stream",
     "text": [
      "# of nodes:  3292\n",
      "# of edges:  151418\n"
     ]
    }
   ],
   "source": [
    "# create graph: university as vertices, mobility of stduents as edges\n",
    "G = nx.DiGraph()\n",
    "\n",
    "grouped_st = students.groupby(['from_hei', 'to_hei'])\n",
    "for key, el in grouped_st:\n",
    "    G.add_edge(key[0], key[1], weight=len(el))\n",
    "    \n",
    "print(\"# of nodes: \", G.number_of_nodes())\n",
    "print(\"# of edges: \", G.number_of_edges())"
   ]
  },
  {
   "cell_type": "code",
   "execution_count": 4,
   "metadata": {},
   "outputs": [],
   "source": [
    "# save the graph\n",
    "nx.write_weighted_edgelist(G, '../graphs/erasmus.weighted.edgelist')"
   ]
  }
 ],
 "metadata": {
  "kernelspec": {
   "display_name": "Python 3",
   "language": "python",
   "name": "python3"
  },
  "language_info": {
   "codemirror_mode": {
    "name": "ipython",
    "version": 3
   },
   "file_extension": ".py",
   "mimetype": "text/x-python",
   "name": "python",
   "nbconvert_exporter": "python",
   "pygments_lexer": "ipython3",
   "version": "3.7.10"
  }
 },
 "nbformat": 4,
 "nbformat_minor": 4
}
