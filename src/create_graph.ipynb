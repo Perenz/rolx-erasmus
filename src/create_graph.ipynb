{
 "metadata": {
  "language_info": {
   "codemirror_mode": {
    "name": "ipython",
    "version": 3
   },
   "file_extension": ".py",
   "mimetype": "text/x-python",
   "name": "python",
   "nbconvert_exporter": "python",
   "pygments_lexer": "ipython3",
   "version": 3
  },
  "orig_nbformat": 2
 },
 "nbformat": 4,
 "nbformat_minor": 2,
 "cells": [
  {
   "cell_type": "code",
   "execution_count": 10,
   "metadata": {},
   "outputs": [],
   "source": [
    "import pandas as pd\n",
    "import networkx as nx"
   ]
  },
  {
   "cell_type": "code",
   "execution_count": 11,
   "metadata": {},
   "outputs": [],
   "source": [
    "students = pd.read_csv(\"../data/6-student_merged.csv\", sep=\";\", dtype={'from_hei': \"string\", 'to_hei': \"string\", 'level': 'category', 'language:': \"category\",\n",
    "                       'year': \"category\", 'gender': \"category\", 'nationality': \"category\", 'previous': \"category\", 'qualification': \"category\", 'languageprep': \"category\"})\n",
    "\n",
    "#Remove white spaces\n",
    "students['from_hei'] = students['from_hei'].str.replace(\" \", \"_\")\n",
    "students['to_hei'] = students['to_hei'].str.replace(\" \", \"_\")\n",
    "\n",
    "# print(students.dtypes)"
   ]
  },
  {
   "cell_type": "code",
   "execution_count": 12,
   "metadata": {},
   "outputs": [
    {
     "output_type": "stream",
     "name": "stdout",
     "text": [
      "# of nodes:  0\n# of edges:  0\n"
     ]
    }
   ],
   "source": [
    "G = nx.DiGraph()\n",
    "print(\"# of nodes: \", G.number_of_nodes())\n",
    "print(\"# of edges: \", G.number_of_edges())"
   ]
  },
  {
   "cell_type": "code",
   "execution_count": 13,
   "metadata": {},
   "outputs": [],
   "source": [
    "grouped_st = students.groupby(['from_hei', 'to_hei'])\n",
    "for key, el in grouped_st:\n",
    "    G.add_edge(key[0], key[1], weight=len(el))"
   ]
  },
  {
   "cell_type": "code",
   "execution_count": 14,
   "metadata": {},
   "outputs": [],
   "source": [
    "nx.write_gpickle(G, '../graphs/edge_list')"
   ]
  }
 ]
}