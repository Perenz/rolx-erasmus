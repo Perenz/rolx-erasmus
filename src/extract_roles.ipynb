{
 "metadata": {
  "language_info": {
   "codemirror_mode": {
    "name": "ipython",
    "version": 3
   },
   "file_extension": ".py",
   "mimetype": "text/x-python",
   "name": "python",
   "nbconvert_exporter": "python",
   "pygments_lexer": "ipython3",
   "version": "3.7.8-final"
  },
  "orig_nbformat": 2,
  "kernelspec": {
   "name": "python37864bitrolx55f4ee194c4d442e849ba573bd39d0bc",
   "display_name": "Python 3.7.8 64-bit ('rolx')"
  }
 },
 "nbformat": 4,
 "nbformat_minor": 2,
 "cells": [
  {
   "cell_type": "code",
   "execution_count": 13,
   "metadata": {},
   "outputs": [],
   "source": [
    "import warnings\n",
    "from pprint import pprint\n",
    "from collections import Counter\n",
    "import pandas as pd\n",
    "import networkx as nx\n",
    "import matplotlib.pyplot as plt\n",
    "from graphrole import RecursiveFeatureExtractor, RoleExtractor\n",
    "import seaborn as sns\n",
    "import numpy as np"
   ]
  },
  {
   "cell_type": "code",
   "execution_count": 14,
   "metadata": {},
   "outputs": [],
   "source": [
    "G = nx.read_gpickle('../graphs/edge_list')"
   ]
  },
  {
   "cell_type": "code",
   "execution_count": 15,
   "metadata": {},
   "outputs": [],
   "source": [
    "feature_extractor = RecursiveFeatureExtractor(G, max_generations=10)\n",
    "features = feature_extractor.extract_features()"
   ]
  },
  {
   "cell_type": "code",
   "execution_count": 16,
   "metadata": {},
   "outputs": [
    {
     "output_type": "stream",
     "name": "stdout",
     "text": [
      "\nFeatures extracted from 6 recursive generations:\n              external_edges(mean)(mean)(mean)(mean)(mean)  \\\nA__BADEN01                                   145872.735983   \nA__DORNBIR01                                 140796.345033   \nA__EISENST01                                 146186.842411   \nA__EISENST02                                 143570.042382   \nA__EISENST05                                 114744.920677   \n...                                                    ...   \nUnknown_PT                                        0.000000   \nUnknown_S                                    143673.982646   \nUnknown_SK                                        0.000000   \nUnknown_TR                                   149752.078361   \nUnknown_UK                                        0.000000   \n\n              external_edges(mean)(mean)(mean)(mean)  \\\nA__BADEN01                             147234.072295   \nA__DORNBIR01                           139357.315492   \nA__EISENST01                           147283.474239   \nA__EISENST02                           143573.515287   \nA__EISENST05                           106447.105320   \n...                                              ...   \nUnknown_PT                                  0.000000   \nUnknown_S                              144216.937091   \nUnknown_SK                                  0.000000   \nUnknown_TR                             153436.749266   \nUnknown_UK                                  0.000000   \n\n              in_degree(mean)(mean)(mean)(mean)  \\\nA__BADEN01                          1648.438477   \nA__DORNBIR01                        1561.016769   \nA__EISENST01                        1640.960041   \nA__EISENST02                        1615.259526   \nA__EISENST05                        1193.635043   \n...                                         ...   \nUnknown_PT                             0.000000   \nUnknown_S                           1624.705248   \nUnknown_SK                             0.000000   \nUnknown_TR                          1739.489771   \nUnknown_UK                             0.000000   \n\n              external_edges(mean)(mean)(mean)  \\\nA__BADEN01                       150100.381828   \nA__DORNBIR01                     136178.848831   \nA__EISENST01                     148249.994481   \nA__EISENST02                     141482.052386   \nA__EISENST05                      94942.417391   \n...                                        ...   \nUnknown_PT                            0.000000   \nUnknown_S                        142741.090716   \nUnknown_SK                            0.000000   \nUnknown_TR                       157657.419963   \nUnknown_UK                            0.000000   \n\n              external_edges(sum)(mean)(mean)  in_degree(mean)(mean)(mean)  \\\nA__BADEN01                       2.393653e+07                  1719.977510   \nA__DORNBIR01                     2.036462e+07                  1519.730122   \nA__EISENST01                     2.435319e+07                  1648.415919   \nA__EISENST02                     2.269528e+07                  1573.059351   \nA__EISENST05                     1.302815e+07                  1040.738758   \n...                                       ...                          ...   \nUnknown_PT                       0.000000e+00                     0.000000   \nUnknown_S                        2.317479e+07                  1592.639936   \nUnknown_SK                       0.000000e+00                     0.000000   \nUnknown_TR                       2.826685e+07                  1744.385806   \nUnknown_UK                       0.000000e+00                     0.000000   \n\n              internal_edges(mean)(mean)(mean)  external_edges(mean)(mean)  \\\nA__BADEN01                        95710.686151               147089.610383   \nA__DORNBIR01                      80424.080669               126590.103192   \nA__EISENST01                      91963.204196               147461.397326   \nA__EISENST02                      84877.269691               137721.623927   \nA__EISENST05                      52021.453292                79459.623190   \n...                                        ...                         ...   \nUnknown_PT                            0.000000                    0.000000   \nUnknown_S                         86850.885537               140933.715583   \nUnknown_SK                            0.000000                    0.000000   \nUnknown_TR                       101158.031593               167362.391370   \nUnknown_UK                            0.000000                    0.000000   \n\n              external_edges(sum)(mean)  in_degree(mean)(mean)  ...  \\\nA__BADEN01                 2.735347e+07            1547.934582  ...   \nA__DORNBIR01               1.834780e+07            1381.258737  ...   \nA__EISENST01               2.300403e+07            1501.270859  ...   \nA__EISENST02               2.222955e+07            1562.420831  ...   \nA__EISENST05               7.742854e+06             841.886294  ...   \n...                                 ...                    ...  ...   \nUnknown_PT                 0.000000e+00               0.000000  ...   \nUnknown_S                  1.984955e+07            1576.270540  ...   \nUnknown_SK                 0.000000e+00               0.000000  ...   \nUnknown_TR                 4.309888e+07            1888.827451  ...   \nUnknown_UK                 0.000000e+00               0.000000  ...   \n\n              external_edges(sum)  in_degree(mean)  internal_edges(mean)  \\\nA__BADEN01              2091414.0      1929.615385          95401.307692   \nA__DORNBIR01            7148348.0      1368.935484          54767.532258   \nA__EISENST01             683215.0      1217.800000          70065.600000   \nA__EISENST02            5970714.0      1621.214286          75585.857143   \nA__EISENST05             324101.0       364.200000          12833.000000   \n...                           ...              ...                   ...   \nUnknown_PT                    0.0         0.000000              0.000000   \nUnknown_S               9689570.0      1416.578947          64126.776316   \nUnknown_SK                    0.0         0.000000              0.000000   \nUnknown_TR               477746.0      1316.500000         202491.500000   \nUnknown_UK                    0.0         0.000000              0.000000   \n\n              out_degree(mean)  total_degree(mean)  external_edges  in_degree  \\\nA__BADEN01         1734.846154         3664.461538           22113         39   \nA__DORNBIR01       1187.483871         2556.419355           67019        319   \nA__EISENST01       1358.600000         2576.400000            6751         29   \nA__EISENST02       1399.690476         3020.904762           54806        147   \nA__EISENST05        362.000000          726.200000            1802         67   \n...                        ...                 ...             ...        ...   \nUnknown_PT            0.000000            0.000000               0         39   \nUnknown_S          1232.000000         2648.578947           84018        531   \nUnknown_SK            0.000000            0.000000               0          4   \nUnknown_TR         1756.000000         3072.500000            3512          2   \nUnknown_UK            0.000000            0.000000               0         34   \n\n              internal_edges  out_degree  total_degree  \nA__BADEN01               497          57            96  \nA__DORNBIR01            7045         440           759  \nA__EISENST01              68          26            55  \nA__EISENST02            4179         198           345  \nA__EISENST05              18          10            77  \n...                      ...         ...           ...  \nUnknown_PT                 0           0            39  \nUnknown_S               9768         154           685  \nUnknown_SK                 0           0             4  \nUnknown_TR                 4           4             6  \nUnknown_UK                 0           0            34  \n\n[3292 rows x 23 columns]\n"
     ]
    }
   ],
   "source": [
    "print(f'\\nFeatures extracted from {feature_extractor.generation_count} recursive generations:')\n",
    "print(features)"
   ]
  },
  {
   "cell_type": "code",
   "execution_count": 17,
   "metadata": {
    "tags": [
     "outputPrepend"
    ]
   },
   "outputs": [
    {
     "output_type": "stream",
     "name": "stderr",
     "text": [
      "description_length.py:56: RuntimeWarning: divide by zero encountered in log\n",
      "  kl_div = np.sum(np.where(vec1 != 0, vec1 * np.log(vec1 / vec2) - vec1 + vec2, 0))\n",
      "/home/david/.pyenv/versions/rolx/lib/python3.7/site-packages/graphrole/roles/description_length.py:56: RuntimeWarning: invalid value encountered in multiply\n",
      "  kl_div = np.sum(np.where(vec1 != 0, vec1 * np.log(vec1 / vec2) - vec1 + vec2, 0))\n",
      "/home/david/.pyenv/versions/rolx/lib/python3.7/site-packages/graphrole/roles/description_length.py:56: RuntimeWarning: divide by zero encountered in log\n",
      "  kl_div = np.sum(np.where(vec1 != 0, vec1 * np.log(vec1 / vec2) - vec1 + vec2, 0))\n",
      "/home/david/.pyenv/versions/rolx/lib/python3.7/site-packages/graphrole/roles/description_length.py:56: RuntimeWarning: invalid value encountered in multiply\n",
      "  kl_div = np.sum(np.where(vec1 != 0, vec1 * np.log(vec1 / vec2) - vec1 + vec2, 0))\n",
      "/home/david/.pyenv/versions/rolx/lib/python3.7/site-packages/graphrole/roles/description_length.py:56: RuntimeWarning: divide by zero encountered in log\n",
      "  kl_div = np.sum(np.where(vec1 != 0, vec1 * np.log(vec1 / vec2) - vec1 + vec2, 0))\n",
      "/home/david/.pyenv/versions/rolx/lib/python3.7/site-packages/graphrole/roles/description_length.py:56: RuntimeWarning: invalid value encountered in multiply\n",
      "  kl_div = np.sum(np.where(vec1 != 0, vec1 * np.log(vec1 / vec2) - vec1 + vec2, 0))\n",
      "/home/david/.pyenv/versions/rolx/lib/python3.7/site-packages/graphrole/roles/description_length.py:56: RuntimeWarning: divide by zero encountered in log\n",
      "  kl_div = np.sum(np.where(vec1 != 0, vec1 * np.log(vec1 / vec2) - vec1 + vec2, 0))\n",
      "/home/david/.pyenv/versions/rolx/lib/python3.7/site-packages/graphrole/roles/description_length.py:56: RuntimeWarning: invalid value encountered in multiply\n",
      "  kl_div = np.sum(np.where(vec1 != 0, vec1 * np.log(vec1 / vec2) - vec1 + vec2, 0))\n",
      "/home/david/.pyenv/versions/rolx/lib/python3.7/site-packages/graphrole/roles/description_length.py:56: RuntimeWarning: divide by zero encountered in log\n",
      "  kl_div = np.sum(np.where(vec1 != 0, vec1 * np.log(vec1 / vec2) - vec1 + vec2, 0))\n",
      "/home/david/.pyenv/versions/rolx/lib/python3.7/site-packages/graphrole/roles/description_length.py:56: RuntimeWarning: invalid value encountered in multiply\n",
      "  kl_div = np.sum(np.where(vec1 != 0, vec1 * np.log(vec1 / vec2) - vec1 + vec2, 0))\n",
      "/home/david/.pyenv/versions/rolx/lib/python3.7/site-packages/graphrole/roles/description_length.py:56: RuntimeWarning: divide by zero encountered in log\n",
      "  kl_div = np.sum(np.where(vec1 != 0, vec1 * np.log(vec1 / vec2) - vec1 + vec2, 0))\n",
      "/home/david/.pyenv/versions/rolx/lib/python3.7/site-packages/graphrole/roles/description_length.py:56: RuntimeWarning: invalid value encountered in multiply\n",
      "  kl_div = np.sum(np.where(vec1 != 0, vec1 * np.log(vec1 / vec2) - vec1 + vec2, 0))\n",
      "/home/david/.pyenv/versions/rolx/lib/python3.7/site-packages/graphrole/roles/description_length.py:56: RuntimeWarning: divide by zero encountered in log\n",
      "  kl_div = np.sum(np.where(vec1 != 0, vec1 * np.log(vec1 / vec2) - vec1 + vec2, 0))\n",
      "/home/david/.pyenv/versions/rolx/lib/python3.7/site-packages/graphrole/roles/description_length.py:56: RuntimeWarning: invalid value encountered in multiply\n",
      "  kl_div = np.sum(np.where(vec1 != 0, vec1 * np.log(vec1 / vec2) - vec1 + vec2, 0))\n",
      "/home/david/.pyenv/versions/rolx/lib/python3.7/site-packages/graphrole/roles/description_length.py:56: RuntimeWarning: divide by zero encountered in log\n",
      "  kl_div = np.sum(np.where(vec1 != 0, vec1 * np.log(vec1 / vec2) - vec1 + vec2, 0))\n",
      "/home/david/.pyenv/versions/rolx/lib/python3.7/site-packages/graphrole/roles/description_length.py:56: RuntimeWarning: invalid value encountered in multiply\n",
      "  kl_div = np.sum(np.where(vec1 != 0, vec1 * np.log(vec1 / vec2) - vec1 + vec2, 0))\n",
      "/home/david/.pyenv/versions/rolx/lib/python3.7/site-packages/graphrole/roles/description_length.py:56: RuntimeWarning: divide by zero encountered in log\n",
      "  kl_div = np.sum(np.where(vec1 != 0, vec1 * np.log(vec1 / vec2) - vec1 + vec2, 0))\n",
      "/home/david/.pyenv/versions/rolx/lib/python3.7/site-packages/graphrole/roles/description_length.py:56: RuntimeWarning: invalid value encountered in multiply\n",
      "  kl_div = np.sum(np.where(vec1 != 0, vec1 * np.log(vec1 / vec2) - vec1 + vec2, 0))\n",
      "/home/david/.pyenv/versions/rolx/lib/python3.7/site-packages/graphrole/roles/description_length.py:56: RuntimeWarning: divide by zero encountered in log\n",
      "  kl_div = np.sum(np.where(vec1 != 0, vec1 * np.log(vec1 / vec2) - vec1 + vec2, 0))\n",
      "/home/david/.pyenv/versions/rolx/lib/python3.7/site-packages/graphrole/roles/description_length.py:56: RuntimeWarning: invalid value encountered in multiply\n",
      "  kl_div = np.sum(np.where(vec1 != 0, vec1 * np.log(vec1 / vec2) - vec1 + vec2, 0))\n",
      "/home/david/.pyenv/versions/rolx/lib/python3.7/site-packages/graphrole/roles/description_length.py:56: RuntimeWarning: divide by zero encountered in log\n",
      "  kl_div = np.sum(np.where(vec1 != 0, vec1 * np.log(vec1 / vec2) - vec1 + vec2, 0))\n",
      "/home/david/.pyenv/versions/rolx/lib/python3.7/site-packages/graphrole/roles/description_length.py:56: RuntimeWarning: invalid value encountered in multiply\n",
      "  kl_div = np.sum(np.where(vec1 != 0, vec1 * np.log(vec1 / vec2) - vec1 + vec2, 0))\n",
      "/home/david/.pyenv/versions/rolx/lib/python3.7/site-packages/graphrole/roles/description_length.py:56: RuntimeWarning: divide by zero encountered in log\n",
      "  kl_div = np.sum(np.where(vec1 != 0, vec1 * np.log(vec1 / vec2) - vec1 + vec2, 0))\n",
      "/home/david/.pyenv/versions/rolx/lib/python3.7/site-packages/graphrole/roles/description_length.py:56: RuntimeWarning: invalid value encountered in multiply\n",
      "  kl_div = np.sum(np.where(vec1 != 0, vec1 * np.log(vec1 / vec2) - vec1 + vec2, 0))\n",
      "/home/david/.pyenv/versions/rolx/lib/python3.7/site-packages/graphrole/roles/description_length.py:56: RuntimeWarning: divide by zero encountered in log\n",
      "  kl_div = np.sum(np.where(vec1 != 0, vec1 * np.log(vec1 / vec2) - vec1 + vec2, 0))\n",
      "/home/david/.pyenv/versions/rolx/lib/python3.7/site-packages/graphrole/roles/description_length.py:56: RuntimeWarning: invalid value encountered in multiply\n",
      "  kl_div = np.sum(np.where(vec1 != 0, vec1 * np.log(vec1 / vec2) - vec1 + vec2, 0))\n",
      "/home/david/.pyenv/versions/rolx/lib/python3.7/site-packages/graphrole/roles/description_length.py:56: RuntimeWarning: divide by zero encountered in log\n",
      "  kl_div = np.sum(np.where(vec1 != 0, vec1 * np.log(vec1 / vec2) - vec1 + vec2, 0))\n",
      "/home/david/.pyenv/versions/rolx/lib/python3.7/site-packages/graphrole/roles/description_length.py:56: RuntimeWarning: invalid value encountered in multiply\n",
      "  kl_div = np.sum(np.where(vec1 != 0, vec1 * np.log(vec1 / vec2) - vec1 + vec2, 0))\n",
      "/home/david/.pyenv/versions/rolx/lib/python3.7/site-packages/graphrole/roles/description_length.py:56: RuntimeWarning: divide by zero encountered in log\n",
      "  kl_div = np.sum(np.where(vec1 != 0, vec1 * np.log(vec1 / vec2) - vec1 + vec2, 0))\n",
      "/home/david/.pyenv/versions/rolx/lib/python3.7/site-packages/graphrole/roles/description_length.py:56: RuntimeWarning: invalid value encountered in multiply\n",
      "  kl_div = np.sum(np.where(vec1 != 0, vec1 * np.log(vec1 / vec2) - vec1 + vec2, 0))\n",
      "/home/david/.pyenv/versions/rolx/lib/python3.7/site-packages/graphrole/roles/description_length.py:56: RuntimeWarning: divide by zero encountered in log\n",
      "  kl_div = np.sum(np.where(vec1 != 0, vec1 * np.log(vec1 / vec2) - vec1 + vec2, 0))\n",
      "/home/david/.pyenv/versions/rolx/lib/python3.7/site-packages/graphrole/roles/description_length.py:56: RuntimeWarning: invalid value encountered in multiply\n",
      "  kl_div = np.sum(np.where(vec1 != 0, vec1 * np.log(vec1 / vec2) - vec1 + vec2, 0))\n",
      "/home/david/.pyenv/versions/rolx/lib/python3.7/site-packages/graphrole/roles/description_length.py:56: RuntimeWarning: divide by zero encountered in log\n",
      "  kl_div = np.sum(np.where(vec1 != 0, vec1 * np.log(vec1 / vec2) - vec1 + vec2, 0))\n",
      "/home/david/.pyenv/versions/rolx/lib/python3.7/site-packages/graphrole/roles/description_length.py:56: RuntimeWarning: invalid value encountered in multiply\n",
      "  kl_div = np.sum(np.where(vec1 != 0, vec1 * np.log(vec1 / vec2) - vec1 + vec2, 0))\n",
      "/home/david/.pyenv/versions/rolx/lib/python3.7/site-packages/graphrole/roles/description_length.py:56: RuntimeWarning: divide by zero encountered in log\n",
      "  kl_div = np.sum(np.where(vec1 != 0, vec1 * np.log(vec1 / vec2) - vec1 + vec2, 0))\n",
      "/home/david/.pyenv/versions/rolx/lib/python3.7/site-packages/graphrole/roles/description_length.py:56: RuntimeWarning: invalid value encountered in multiply\n",
      "  kl_div = np.sum(np.where(vec1 != 0, vec1 * np.log(vec1 / vec2) - vec1 + vec2, 0))\n",
      "/home/david/.pyenv/versions/rolx/lib/python3.7/site-packages/graphrole/roles/description_length.py:56: RuntimeWarning: divide by zero encountered in log\n",
      "  kl_div = np.sum(np.where(vec1 != 0, vec1 * np.log(vec1 / vec2) - vec1 + vec2, 0))\n",
      "/home/david/.pyenv/versions/rolx/lib/python3.7/site-packages/graphrole/roles/description_length.py:56: RuntimeWarning: invalid value encountered in multiply\n",
      "  kl_div = np.sum(np.where(vec1 != 0, vec1 * np.log(vec1 / vec2) - vec1 + vec2, 0))\n",
      "/home/david/.pyenv/versions/rolx/lib/python3.7/site-packages/graphrole/roles/description_length.py:56: RuntimeWarning: divide by zero encountered in log\n",
      "  kl_div = np.sum(np.where(vec1 != 0, vec1 * np.log(vec1 / vec2) - vec1 + vec2, 0))\n",
      "/home/david/.pyenv/versions/rolx/lib/python3.7/site-packages/graphrole/roles/description_length.py:56: RuntimeWarning: invalid value encountered in multiply\n",
      "  kl_div = np.sum(np.where(vec1 != 0, vec1 * np.log(vec1 / vec2) - vec1 + vec2, 0))\n",
      "/home/david/.pyenv/versions/rolx/lib/python3.7/site-packages/graphrole/roles/description_length.py:56: RuntimeWarning: divide by zero encountered in log\n",
      "  kl_div = np.sum(np.where(vec1 != 0, vec1 * np.log(vec1 / vec2) - vec1 + vec2, 0))\n",
      "/home/david/.pyenv/versions/rolx/lib/python3.7/site-packages/graphrole/roles/description_length.py:56: RuntimeWarning: invalid value encountered in multiply\n",
      "  kl_div = np.sum(np.where(vec1 != 0, vec1 * np.log(vec1 / vec2) - vec1 + vec2, 0))\n",
      "/home/david/.pyenv/versions/rolx/lib/python3.7/site-packages/graphrole/roles/description_length.py:56: RuntimeWarning: divide by zero encountered in log\n",
      "  kl_div = np.sum(np.where(vec1 != 0, vec1 * np.log(vec1 / vec2) - vec1 + vec2, 0))\n",
      "/home/david/.pyenv/versions/rolx/lib/python3.7/site-packages/graphrole/roles/description_length.py:56: RuntimeWarning: invalid value encountered in multiply\n",
      "  kl_div = np.sum(np.where(vec1 != 0, vec1 * np.log(vec1 / vec2) - vec1 + vec2, 0))\n",
      "/home/david/.pyenv/versions/rolx/lib/python3.7/site-packages/graphrole/roles/description_length.py:56: RuntimeWarning: divide by zero encountered in log\n",
      "  kl_div = np.sum(np.where(vec1 != 0, vec1 * np.log(vec1 / vec2) - vec1 + vec2, 0))\n",
      "/home/david/.pyenv/versions/rolx/lib/python3.7/site-packages/graphrole/roles/description_length.py:56: RuntimeWarning: invalid value encountered in multiply\n",
      "  kl_div = np.sum(np.where(vec1 != 0, vec1 * np.log(vec1 / vec2) - vec1 + vec2, 0))\n",
      "/home/david/.pyenv/versions/rolx/lib/python3.7/site-packages/graphrole/roles/description_length.py:56: RuntimeWarning: divide by zero encountered in log\n",
      "  kl_div = np.sum(np.where(vec1 != 0, vec1 * np.log(vec1 / vec2) - vec1 + vec2, 0))\n",
      "/home/david/.pyenv/versions/rolx/lib/python3.7/site-packages/graphrole/roles/description_length.py:56: RuntimeWarning: invalid value encountered in multiply\n",
      "  kl_div = np.sum(np.where(vec1 != 0, vec1 * np.log(vec1 / vec2) - vec1 + vec2, 0))\n",
      "/home/david/.pyenv/versions/rolx/lib/python3.7/site-packages/graphrole/roles/description_length.py:56: RuntimeWarning: divide by zero encountered in log\n",
      "  kl_div = np.sum(np.where(vec1 != 0, vec1 * np.log(vec1 / vec2) - vec1 + vec2, 0))\n",
      "/home/david/.pyenv/versions/rolx/lib/python3.7/site-packages/graphrole/roles/description_length.py:56: RuntimeWarning: invalid value encountered in multiply\n",
      "  kl_div = np.sum(np.where(vec1 != 0, vec1 * np.log(vec1 / vec2) - vec1 + vec2, 0))\n",
      "/home/david/.pyenv/versions/rolx/lib/python3.7/site-packages/graphrole/roles/description_length.py:56: RuntimeWarning: divide by zero encountered in log\n",
      "  kl_div = np.sum(np.where(vec1 != 0, vec1 * np.log(vec1 / vec2) - vec1 + vec2, 0))\n",
      "/home/david/.pyenv/versions/rolx/lib/python3.7/site-packages/graphrole/roles/description_length.py:56: RuntimeWarning: invalid value encountered in multiply\n",
      "  kl_div = np.sum(np.where(vec1 != 0, vec1 * np.log(vec1 / vec2) - vec1 + vec2, 0))\n",
      "/home/david/.pyenv/versions/rolx/lib/python3.7/site-packages/graphrole/roles/description_length.py:56: RuntimeWarning: divide by zero encountered in log\n",
      "  kl_div = np.sum(np.where(vec1 != 0, vec1 * np.log(vec1 / vec2) - vec1 + vec2, 0))\n",
      "/home/david/.pyenv/versions/rolx/lib/python3.7/site-packages/graphrole/roles/description_length.py:56: RuntimeWarning: invalid value encountered in multiply\n",
      "  kl_div = np.sum(np.where(vec1 != 0, vec1 * np.log(vec1 / vec2) - vec1 + vec2, 0))\n",
      "/home/david/.pyenv/versions/rolx/lib/python3.7/site-packages/graphrole/roles/description_length.py:56: RuntimeWarning: divide by zero encountered in log\n",
      "  kl_div = np.sum(np.where(vec1 != 0, vec1 * np.log(vec1 / vec2) - vec1 + vec2, 0))\n",
      "/home/david/.pyenv/versions/rolx/lib/python3.7/site-packages/graphrole/roles/description_length.py:56: RuntimeWarning: invalid value encountered in multiply\n",
      "  kl_div = np.sum(np.where(vec1 != 0, vec1 * np.log(vec1 / vec2) - vec1 + vec2, 0))\n",
      "/home/david/.pyenv/versions/rolx/lib/python3.7/site-packages/graphrole/roles/description_length.py:56: RuntimeWarning: divide by zero encountered in log\n",
      "  kl_div = np.sum(np.where(vec1 != 0, vec1 * np.log(vec1 / vec2) - vec1 + vec2, 0))\n",
      "/home/david/.pyenv/versions/rolx/lib/python3.7/site-packages/graphrole/roles/description_length.py:56: RuntimeWarning: invalid value encountered in multiply\n",
      "  kl_div = np.sum(np.where(vec1 != 0, vec1 * np.log(vec1 / vec2) - vec1 + vec2, 0))\n",
      "/home/david/.pyenv/versions/rolx/lib/python3.7/site-packages/graphrole/roles/description_length.py:56: RuntimeWarning: divide by zero encountered in log\n",
      "  kl_div = np.sum(np.where(vec1 != 0, vec1 * np.log(vec1 / vec2) - vec1 + vec2, 0))\n",
      "/home/david/.pyenv/versions/rolx/lib/python3.7/site-packages/graphrole/roles/description_length.py:56: RuntimeWarning: invalid value encountered in multiply\n",
      "  kl_div = np.sum(np.where(vec1 != 0, vec1 * np.log(vec1 / vec2) - vec1 + vec2, 0))\n",
      "/home/david/.pyenv/versions/rolx/lib/python3.7/site-packages/graphrole/roles/description_length.py:56: RuntimeWarning: divide by zero encountered in log\n",
      "  kl_div = np.sum(np.where(vec1 != 0, vec1 * np.log(vec1 / vec2) - vec1 + vec2, 0))\n",
      "/home/david/.pyenv/versions/rolx/lib/python3.7/site-packages/graphrole/roles/description_length.py:56: RuntimeWarning: invalid value encountered in multiply\n",
      "  kl_div = np.sum(np.where(vec1 != 0, vec1 * np.log(vec1 / vec2) - vec1 + vec2, 0))\n",
      "/home/david/.pyenv/versions/rolx/lib/python3.7/site-packages/graphrole/roles/description_length.py:56: RuntimeWarning: divide by zero encountered in log\n",
      "  kl_div = np.sum(np.where(vec1 != 0, vec1 * np.log(vec1 / vec2) - vec1 + vec2, 0))\n",
      "/home/david/.pyenv/versions/rolx/lib/python3.7/site-packages/graphrole/roles/description_length.py:56: RuntimeWarning: invalid value encountered in multiply\n",
      "  kl_div = np.sum(np.where(vec1 != 0, vec1 * np.log(vec1 / vec2) - vec1 + vec2, 0))\n",
      "/home/david/.pyenv/versions/rolx/lib/python3.7/site-packages/graphrole/roles/description_length.py:56: RuntimeWarning: divide by zero encountered in log\n",
      "  kl_div = np.sum(np.where(vec1 != 0, vec1 * np.log(vec1 / vec2) - vec1 + vec2, 0))\n",
      "/home/david/.pyenv/versions/rolx/lib/python3.7/site-packages/graphrole/roles/description_length.py:56: RuntimeWarning: invalid value encountered in multiply\n",
      "  kl_div = np.sum(np.where(vec1 != 0, vec1 * np.log(vec1 / vec2) - vec1 + vec2, 0))\n",
      "/home/david/.pyenv/versions/rolx/lib/python3.7/site-packages/graphrole/roles/description_length.py:56: RuntimeWarning: divide by zero encountered in log\n",
      "  kl_div = np.sum(np.where(vec1 != 0, vec1 * np.log(vec1 / vec2) - vec1 + vec2, 0))\n",
      "/home/david/.pyenv/versions/rolx/lib/python3.7/site-packages/graphrole/roles/description_length.py:56: RuntimeWarning: invalid value encountered in multiply\n",
      "  kl_div = np.sum(np.where(vec1 != 0, vec1 * np.log(vec1 / vec2) - vec1 + vec2, 0))\n",
      "/home/david/.pyenv/versions/rolx/lib/python3.7/site-packages/graphrole/roles/description_length.py:56: RuntimeWarning: divide by zero encountered in log\n",
      "  kl_div = np.sum(np.where(vec1 != 0, vec1 * np.log(vec1 / vec2) - vec1 + vec2, 0))\n",
      "/home/david/.pyenv/versions/rolx/lib/python3.7/site-packages/graphrole/roles/description_length.py:56: RuntimeWarning: invalid value encountered in multiply\n",
      "  kl_div = np.sum(np.where(vec1 != 0, vec1 * np.log(vec1 / vec2) - vec1 + vec2, 0))\n",
      "/home/david/.pyenv/versions/rolx/lib/python3.7/site-packages/graphrole/roles/description_length.py:56: RuntimeWarning: divide by zero encountered in log\n",
      "  kl_div = np.sum(np.where(vec1 != 0, vec1 * np.log(vec1 / vec2) - vec1 + vec2, 0))\n",
      "/home/david/.pyenv/versions/rolx/lib/python3.7/site-packages/graphrole/roles/description_length.py:56: RuntimeWarning: invalid value encountered in multiply\n",
      "  kl_div = np.sum(np.where(vec1 != 0, vec1 * np.log(vec1 / vec2) - vec1 + vec2, 0))\n",
      "/home/david/.pyenv/versions/rolx/lib/python3.7/site-packages/graphrole/roles/description_length.py:56: RuntimeWarning: divide by zero encountered in log\n",
      "  kl_div = np.sum(np.where(vec1 != 0, vec1 * np.log(vec1 / vec2) - vec1 + vec2, 0))\n",
      "/home/david/.pyenv/versions/rolx/lib/python3.7/site-packages/graphrole/roles/description_length.py:56: RuntimeWarning: invalid value encountered in multiply\n",
      "  kl_div = np.sum(np.where(vec1 != 0, vec1 * np.log(vec1 / vec2) - vec1 + vec2, 0))\n",
      "/home/david/.pyenv/versions/rolx/lib/python3.7/site-packages/graphrole/roles/description_length.py:56: RuntimeWarning: divide by zero encountered in log\n",
      "  kl_div = np.sum(np.where(vec1 != 0, vec1 * np.log(vec1 / vec2) - vec1 + vec2, 0))\n",
      "/home/david/.pyenv/versions/rolx/lib/python3.7/site-packages/graphrole/roles/description_length.py:56: RuntimeWarning: invalid value encountered in multiply\n",
      "  kl_div = np.sum(np.where(vec1 != 0, vec1 * np.log(vec1 / vec2) - vec1 + vec2, 0))\n",
      "/home/david/.pyenv/versions/rolx/lib/python3.7/site-packages/graphrole/roles/description_length.py:56: RuntimeWarning: divide by zero encountered in log\n",
      "  kl_div = np.sum(np.where(vec1 != 0, vec1 * np.log(vec1 / vec2) - vec1 + vec2, 0))\n",
      "/home/david/.pyenv/versions/rolx/lib/python3.7/site-packages/graphrole/roles/description_length.py:56: RuntimeWarning: invalid value encountered in multiply\n",
      "  kl_div = np.sum(np.where(vec1 != 0, vec1 * np.log(vec1 / vec2) - vec1 + vec2, 0))\n",
      "/home/david/.pyenv/versions/rolx/lib/python3.7/site-packages/graphrole/roles/description_length.py:56: RuntimeWarning: divide by zero encountered in log\n",
      "  kl_div = np.sum(np.where(vec1 != 0, vec1 * np.log(vec1 / vec2) - vec1 + vec2, 0))\n",
      "/home/david/.pyenv/versions/rolx/lib/python3.7/site-packages/graphrole/roles/description_length.py:56: RuntimeWarning: invalid value encountered in multiply\n",
      "  kl_div = np.sum(np.where(vec1 != 0, vec1 * np.log(vec1 / vec2) - vec1 + vec2, 0))\n",
      "/home/david/.pyenv/versions/rolx/lib/python3.7/site-packages/graphrole/roles/description_length.py:56: RuntimeWarning: divide by zero encountered in log\n",
      "  kl_div = np.sum(np.where(vec1 != 0, vec1 * np.log(vec1 / vec2) - vec1 + vec2, 0))\n",
      "/home/david/.pyenv/versions/rolx/lib/python3.7/site-packages/graphrole/roles/description_length.py:56: RuntimeWarning: invalid value encountered in multiply\n",
      "  kl_div = np.sum(np.where(vec1 != 0, vec1 * np.log(vec1 / vec2) - vec1 + vec2, 0))\n",
      "/home/david/.pyenv/versions/rolx/lib/python3.7/site-packages/graphrole/roles/description_length.py:56: RuntimeWarning: divide by zero encountered in log\n",
      "  kl_div = np.sum(np.where(vec1 != 0, vec1 * np.log(vec1 / vec2) - vec1 + vec2, 0))\n",
      "/home/david/.pyenv/versions/rolx/lib/python3.7/site-packages/graphrole/roles/description_length.py:56: RuntimeWarning: invalid value encountered in multiply\n",
      "  kl_div = np.sum(np.where(vec1 != 0, vec1 * np.log(vec1 / vec2) - vec1 + vec2, 0))\n",
      "\n"
     ]
    }
   ],
   "source": [
    "role_extractor = RoleExtractor(n_roles=None)\n",
    "role_extractor.extract_role_factors(features)\n",
    "node_roles = role_extractor.roles\n",
    "print(\"\")"
   ]
  },
  {
   "cell_type": "code",
   "execution_count": 18,
   "metadata": {
    "tags": []
   },
   "outputs": [
    {
     "output_type": "stream",
     "name": "stdout",
     "text": [
      "\n",
      "Node role membership by percentage:\n",
      "              role_0  role_1  role_2  role_3  role_4  role_5  role_6  role_7\n",
      "A__BADEN01      0.01    0.39    0.01    0.01    0.20    0.01    0.20    0.20\n",
      "A__DORNBIR01    0.01    0.20    0.01    0.01    0.01    0.01    0.39    0.39\n",
      "A__EISENST01    0.01    0.39    0.01    0.20    0.20    0.01    0.01    0.20\n",
      "A__EISENST02    0.00    0.31    0.00    0.00    0.00    0.15    0.52    0.00\n",
      "A__EISENST05    0.01    0.32    0.01    0.01    0.63    0.01    0.01    0.01\n",
      "...              ...     ...     ...     ...     ...     ...     ...     ...\n",
      "Unknown_PT      0.12    0.12    0.12    0.12    0.12    0.12    0.12    0.12\n",
      "Unknown_S       0.00    0.00    0.00    0.00    0.00    0.00    0.61    0.36\n",
      "Unknown_SK      0.12    0.12    0.12    0.12    0.12    0.12    0.12    0.12\n",
      "Unknown_TR      0.00    0.45    0.13    0.00    0.13    0.00    0.27    0.00\n",
      "Unknown_UK      0.12    0.12    0.12    0.12    0.12    0.12    0.12    0.12\n",
      "\n",
      "[3292 rows x 8 columns]\n",
      "Counter({'role_1': 1213,\n",
      "         'role_4': 570,\n",
      "         'role_0': 513,\n",
      "         'role_6': 321,\n",
      "         'role_2': 252,\n",
      "         'role_3': 168,\n",
      "         'role_7': 149,\n",
      "         'role_5': 106})\n"
     ]
    }
   ],
   "source": [
    "# pprint(node_roles)\n",
    "\n",
    "print('\\nNode role membership by percentage:')\n",
    "print(role_extractor.role_percentage.round(2))\n",
    "\n",
    "role_count = Counter(node_roles.values())\n",
    "pprint(role_count)"
   ]
  },
  {
   "cell_type": "code",
   "execution_count": 19,
   "metadata": {},
   "outputs": [],
   "source": [
    "roles_values = list(node_roles.values())\n",
    "features['roles'] = roles_values"
   ]
  },
  {
   "cell_type": "code",
   "execution_count": 20,
   "metadata": {},
   "outputs": [],
   "source": [
    "pr = nx.pagerank(G, alpha=0.9)\n",
    "features[\"pagerank\"] = pr.values()"
   ]
  },
  {
   "cell_type": "code",
   "execution_count": 21,
   "metadata": {},
   "outputs": [],
   "source": [
    "features.to_csv(\"../graphs/node_roles.csv\")"
   ]
  },
  {
   "cell_type": "code",
   "execution_count": null,
   "metadata": {},
   "outputs": [],
   "source": []
  }
 ]
}