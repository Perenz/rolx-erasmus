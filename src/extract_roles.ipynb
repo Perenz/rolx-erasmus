{
 "metadata": {
  "language_info": {
   "codemirror_mode": {
    "name": "ipython",
    "version": 3
   },
   "file_extension": ".py",
   "mimetype": "text/x-python",
   "name": "python",
   "nbconvert_exporter": "python",
   "pygments_lexer": "ipython3",
   "version": "3.7.8-final"
  },
  "orig_nbformat": 2,
  "kernelspec": {
   "name": "python39464bitrolx4b2498356ee443768a65317a6b7d0648",
   "display_name": "Python 3.9.4 64-bit ('rolx')"
  }
 },
 "nbformat": 4,
 "nbformat_minor": 2,
 "cells": [
  {
   "cell_type": "code",
   "execution_count": 38,
   "metadata": {},
   "outputs": [],
   "source": [
    "import warnings\n",
    "from pprint import pprint\n",
    "from collections import Counter\n",
    "import pandas as pd\n",
    "import networkx as nx\n",
    "import matplotlib.pyplot as plt\n",
    "from graphrole import RecursiveFeatureExtractor, RoleExtractor\n",
    "import seaborn as sns\n",
    "import numpy as np"
   ]
  },
  {
   "cell_type": "code",
   "execution_count": 39,
   "metadata": {},
   "outputs": [],
   "source": [
    "G = nx.read_gpickle('../graphs/edge_list')"
   ]
  },
  {
   "cell_type": "code",
   "execution_count": 40,
   "metadata": {},
   "outputs": [],
   "source": [
    "feature_extractor = RecursiveFeatureExtractor(G, max_generations=10)\n",
    "features = feature_extractor.extract_features()"
   ]
  },
  {
   "cell_type": "code",
   "execution_count": 41,
   "metadata": {},
   "outputs": [
    {
     "output_type": "stream",
     "name": "stdout",
     "text": [
      "\nFeatures extracted from 6 recursive generations:\n              external_edges(mean)(mean)(mean)(mean)(mean)  \\\nA__BADEN01                                   145872.735983   \nA__DORNBIR01                                 140796.345033   \nA__EISENST01                                 146186.842411   \nA__EISENST02                                 143570.042382   \nA__EISENST05                                 114744.920677   \n...                                                    ...   \nUnknown_PT                                        0.000000   \nUnknown_S                                    143673.982646   \nUnknown_SK                                        0.000000   \nUnknown_TR                                   149752.078361   \nUnknown_UK                                        0.000000   \n\n              external_edges(mean)(mean)(mean)(mean)  \\\nA__BADEN01                             147234.072295   \nA__DORNBIR01                           139357.315492   \nA__EISENST01                           147283.474239   \nA__EISENST02                           143573.515287   \nA__EISENST05                           106447.105320   \n...                                              ...   \nUnknown_PT                                  0.000000   \nUnknown_S                              144216.937091   \nUnknown_SK                                  0.000000   \nUnknown_TR                             153436.749266   \nUnknown_UK                                  0.000000   \n\n              in_degree(mean)(mean)(mean)(mean)  \\\nA__BADEN01                          1648.438477   \nA__DORNBIR01                        1561.016769   \nA__EISENST01                        1640.960041   \nA__EISENST02                        1615.259526   \nA__EISENST05                        1193.635043   \n...                                         ...   \nUnknown_PT                             0.000000   \nUnknown_S                           1624.705248   \nUnknown_SK                             0.000000   \nUnknown_TR                          1739.489771   \nUnknown_UK                             0.000000   \n\n              external_edges(mean)(mean)(mean)  \\\nA__BADEN01                       150100.381828   \nA__DORNBIR01                     136178.848831   \nA__EISENST01                     148249.994481   \nA__EISENST02                     141482.052386   \nA__EISENST05                      94942.417391   \n...                                        ...   \nUnknown_PT                            0.000000   \nUnknown_S                        142741.090716   \nUnknown_SK                            0.000000   \nUnknown_TR                       157657.419963   \nUnknown_UK                            0.000000   \n\n              external_edges(sum)(mean)(mean)  in_degree(mean)(mean)(mean)  \\\nA__BADEN01                       2.393653e+07                  1719.977510   \nA__DORNBIR01                     2.036462e+07                  1519.730122   \nA__EISENST01                     2.435319e+07                  1648.415919   \nA__EISENST02                     2.269528e+07                  1573.059351   \nA__EISENST05                     1.302815e+07                  1040.738758   \n...                                       ...                          ...   \nUnknown_PT                       0.000000e+00                     0.000000   \nUnknown_S                        2.317479e+07                  1592.639936   \nUnknown_SK                       0.000000e+00                     0.000000   \nUnknown_TR                       2.826685e+07                  1744.385806   \nUnknown_UK                       0.000000e+00                     0.000000   \n\n              internal_edges(mean)(mean)(mean)  external_edges(mean)(mean)  \\\nA__BADEN01                        95710.686151               147089.610383   \nA__DORNBIR01                      80424.080669               126590.103192   \nA__EISENST01                      91963.204196               147461.397326   \nA__EISENST02                      84877.269691               137721.623927   \nA__EISENST05                      52021.453292                79459.623190   \n...                                        ...                         ...   \nUnknown_PT                            0.000000                    0.000000   \nUnknown_S                         86850.885537               140933.715583   \nUnknown_SK                            0.000000                    0.000000   \nUnknown_TR                       101158.031593               167362.391370   \nUnknown_UK                            0.000000                    0.000000   \n\n              external_edges(sum)(mean)  in_degree(mean)(mean)  ...  \\\nA__BADEN01                 2.735347e+07            1547.934582  ...   \nA__DORNBIR01               1.834780e+07            1381.258737  ...   \nA__EISENST01               2.300403e+07            1501.270859  ...   \nA__EISENST02               2.222955e+07            1562.420831  ...   \nA__EISENST05               7.742854e+06             841.886294  ...   \n...                                 ...                    ...  ...   \nUnknown_PT                 0.000000e+00               0.000000  ...   \nUnknown_S                  1.984955e+07            1576.270540  ...   \nUnknown_SK                 0.000000e+00               0.000000  ...   \nUnknown_TR                 4.309888e+07            1888.827451  ...   \nUnknown_UK                 0.000000e+00               0.000000  ...   \n\n              external_edges(sum)  in_degree(mean)  internal_edges(mean)  \\\nA__BADEN01              2091414.0      1929.615385          95401.307692   \nA__DORNBIR01            7148348.0      1368.935484          54767.532258   \nA__EISENST01             683215.0      1217.800000          70065.600000   \nA__EISENST02            5970714.0      1621.214286          75585.857143   \nA__EISENST05             324101.0       364.200000          12833.000000   \n...                           ...              ...                   ...   \nUnknown_PT                    0.0         0.000000              0.000000   \nUnknown_S               9689570.0      1416.578947          64126.776316   \nUnknown_SK                    0.0         0.000000              0.000000   \nUnknown_TR               477746.0      1316.500000         202491.500000   \nUnknown_UK                    0.0         0.000000              0.000000   \n\n              out_degree(mean)  total_degree(mean)  external_edges  in_degree  \\\nA__BADEN01         1734.846154         3664.461538           22113         39   \nA__DORNBIR01       1187.483871         2556.419355           67019        319   \nA__EISENST01       1358.600000         2576.400000            6751         29   \nA__EISENST02       1399.690476         3020.904762           54806        147   \nA__EISENST05        362.000000          726.200000            1802         67   \n...                        ...                 ...             ...        ...   \nUnknown_PT            0.000000            0.000000               0         39   \nUnknown_S          1232.000000         2648.578947           84018        531   \nUnknown_SK            0.000000            0.000000               0          4   \nUnknown_TR         1756.000000         3072.500000            3512          2   \nUnknown_UK            0.000000            0.000000               0         34   \n\n              internal_edges  out_degree  total_degree  \nA__BADEN01               497          57            96  \nA__DORNBIR01            7045         440           759  \nA__EISENST01              68          26            55  \nA__EISENST02            4179         198           345  \nA__EISENST05              18          10            77  \n...                      ...         ...           ...  \nUnknown_PT                 0           0            39  \nUnknown_S               9768         154           685  \nUnknown_SK                 0           0             4  \nUnknown_TR                 4           4             6  \nUnknown_UK                 0           0            34  \n\n[3292 rows x 23 columns]\n"
     ]
    }
   ],
   "source": [
    "print(f'\\nFeatures extracted from {feature_extractor.generation_count} recursive generations:')\n",
    "print(features)"
   ]
  },
  {
   "cell_type": "code",
   "execution_count": 42,
   "metadata": {
    "tags": []
   },
   "outputs": [
    {
     "output_type": "stream",
     "name": "stdout",
     "text": [
      "\n"
     ]
    }
   ],
   "source": [
    "role_extractor = RoleExtractor(n_roles=None)\n",
    "role_extractor.extract_role_factors(features)\n",
    "node_roles = role_extractor.roles\n",
    "print(\"\")"
   ]
  },
  {
   "cell_type": "code",
   "execution_count": 43,
   "metadata": {
    "tags": []
   },
   "outputs": [
    {
     "output_type": "stream",
     "name": "stdout",
     "text": [
      "\n",
      "Node role membership by percentage:\n",
      "              role_0  role_1  role_2  role_3\n",
      "A__BADEN01      0.00    0.89    0.10    0.00\n",
      "A__DORNBIR01    0.90    0.10    0.00    0.00\n",
      "A__EISENST01    0.00    0.81    0.00    0.18\n",
      "A__EISENST02    0.79    0.21    0.00    0.00\n",
      "A__EISENST05    0.01    0.98    0.01    0.01\n",
      "...              ...     ...     ...     ...\n",
      "Unknown_PT      0.25    0.25    0.25    0.25\n",
      "Unknown_S       0.82    0.10    0.03    0.05\n",
      "Unknown_SK      0.25    0.25    0.25    0.25\n",
      "Unknown_TR      0.00    0.74    0.25    0.00\n",
      "Unknown_UK      0.25    0.25    0.25    0.25\n",
      "\n",
      "[3292 rows x 4 columns]\n",
      "Counter({'role_1': 1584, 'role_0': 1075, 'role_2': 440, 'role_3': 193})\n"
     ]
    }
   ],
   "source": [
    "# pprint(node_roles)\n",
    "\n",
    "print('\\nNode role membership by percentage:')\n",
    "print(role_extractor.role_percentage.round(2))\n",
    "\n",
    "role_count = Counter(node_roles.values())\n",
    "pprint(role_count)"
   ]
  },
  {
   "cell_type": "code",
   "execution_count": 44,
   "metadata": {
    "tags": []
   },
   "outputs": [
    {
     "output_type": "stream",
     "name": "stdout",
     "text": [
      "               roles\nA__BADEN01    role_1\nA__DORNBIR01  role_0\nA__EISENST01  role_1\nA__EISENST02  role_0\nA__EISENST05  role_1\n...              ...\nUnknown_PT    role_0\nUnknown_S     role_0\nUnknown_SK    role_0\nUnknown_TR    role_1\nUnknown_UK    role_0\n\n[3292 rows x 1 columns]\n"
     ]
    }
   ],
   "source": [
    "# roles_values = list(node_roles.values())\n",
    "# features['roles'] = roles_values\n",
    "prdf = pd.DataFrame.from_dict(data= node_roles, orient=\"index\", columns=[\"roles\"])\n",
    "print(prdf) \n",
    "features = features.join(prdf)"
   ]
  },
  {
   "cell_type": "code",
   "execution_count": 45,
   "metadata": {
    "tags": []
   },
   "outputs": [],
   "source": [
    "pr = nx.pagerank(G, alpha=0.9)\n",
    "\n",
    "# features[\"pagerank\"] = pr.values()"
   ]
  },
  {
   "cell_type": "code",
   "execution_count": 46,
   "metadata": {},
   "outputs": [
    {
     "output_type": "stream",
     "name": "stdout",
     "text": [
      "              external_edges(mean)(mean)(mean)(mean)(mean)  \\\nA__BADEN01                                   145872.735983   \nA__DORNBIR01                                 140796.345033   \nA__EISENST01                                 146186.842411   \nA__EISENST02                                 143570.042382   \nA__EISENST05                                 114744.920677   \n...                                                    ...   \nUnknown_PT                                        0.000000   \nUnknown_S                                    143673.982646   \nUnknown_SK                                        0.000000   \nUnknown_TR                                   149752.078361   \nUnknown_UK                                        0.000000   \n\n              external_edges(mean)(mean)(mean)(mean)  \\\nA__BADEN01                             147234.072295   \nA__DORNBIR01                           139357.315492   \nA__EISENST01                           147283.474239   \nA__EISENST02                           143573.515287   \nA__EISENST05                           106447.105320   \n...                                              ...   \nUnknown_PT                                  0.000000   \nUnknown_S                              144216.937091   \nUnknown_SK                                  0.000000   \nUnknown_TR                             153436.749266   \nUnknown_UK                                  0.000000   \n\n              in_degree(mean)(mean)(mean)(mean)  \\\nA__BADEN01                          1648.438477   \nA__DORNBIR01                        1561.016769   \nA__EISENST01                        1640.960041   \nA__EISENST02                        1615.259526   \nA__EISENST05                        1193.635043   \n...                                         ...   \nUnknown_PT                             0.000000   \nUnknown_S                           1624.705248   \nUnknown_SK                             0.000000   \nUnknown_TR                          1739.489771   \nUnknown_UK                             0.000000   \n\n              external_edges(mean)(mean)(mean)  \\\nA__BADEN01                       150100.381828   \nA__DORNBIR01                     136178.848831   \nA__EISENST01                     148249.994481   \nA__EISENST02                     141482.052386   \nA__EISENST05                      94942.417391   \n...                                        ...   \nUnknown_PT                            0.000000   \nUnknown_S                        142741.090716   \nUnknown_SK                            0.000000   \nUnknown_TR                       157657.419963   \nUnknown_UK                            0.000000   \n\n              external_edges(sum)(mean)(mean)  in_degree(mean)(mean)(mean)  \\\nA__BADEN01                       2.393653e+07                  1719.977510   \nA__DORNBIR01                     2.036462e+07                  1519.730122   \nA__EISENST01                     2.435319e+07                  1648.415919   \nA__EISENST02                     2.269528e+07                  1573.059351   \nA__EISENST05                     1.302815e+07                  1040.738758   \n...                                       ...                          ...   \nUnknown_PT                       0.000000e+00                     0.000000   \nUnknown_S                        2.317479e+07                  1592.639936   \nUnknown_SK                       0.000000e+00                     0.000000   \nUnknown_TR                       2.826685e+07                  1744.385806   \nUnknown_UK                       0.000000e+00                     0.000000   \n\n              internal_edges(mean)(mean)(mean)  external_edges(mean)(mean)  \\\nA__BADEN01                        95710.686151               147089.610383   \nA__DORNBIR01                      80424.080669               126590.103192   \nA__EISENST01                      91963.204196               147461.397326   \nA__EISENST02                      84877.269691               137721.623927   \nA__EISENST05                      52021.453292                79459.623190   \n...                                        ...                         ...   \nUnknown_PT                            0.000000                    0.000000   \nUnknown_S                         86850.885537               140933.715583   \nUnknown_SK                            0.000000                    0.000000   \nUnknown_TR                       101158.031593               167362.391370   \nUnknown_UK                            0.000000                    0.000000   \n\n              external_edges(sum)(mean)  in_degree(mean)(mean)  ...  \\\nA__BADEN01                 2.735347e+07            1547.934582  ...   \nA__DORNBIR01               1.834780e+07            1381.258737  ...   \nA__EISENST01               2.300403e+07            1501.270859  ...   \nA__EISENST02               2.222955e+07            1562.420831  ...   \nA__EISENST05               7.742854e+06             841.886294  ...   \n...                                 ...                    ...  ...   \nUnknown_PT                 0.000000e+00               0.000000  ...   \nUnknown_S                  1.984955e+07            1576.270540  ...   \nUnknown_SK                 0.000000e+00               0.000000  ...   \nUnknown_TR                 4.309888e+07            1888.827451  ...   \nUnknown_UK                 0.000000e+00               0.000000  ...   \n\n              internal_edges(mean)  out_degree(mean)  total_degree(mean)  \\\nA__BADEN01            95401.307692       1734.846154         3664.461538   \nA__DORNBIR01          54767.532258       1187.483871         2556.419355   \nA__EISENST01          70065.600000       1358.600000         2576.400000   \nA__EISENST02          75585.857143       1399.690476         3020.904762   \nA__EISENST05          12833.000000        362.000000          726.200000   \n...                            ...               ...                 ...   \nUnknown_PT                0.000000          0.000000            0.000000   \nUnknown_S             64126.776316       1232.000000         2648.578947   \nUnknown_SK                0.000000          0.000000            0.000000   \nUnknown_TR           202491.500000       1756.000000         3072.500000   \nUnknown_UK                0.000000          0.000000            0.000000   \n\n              external_edges  in_degree  internal_edges  out_degree  \\\nA__BADEN01             22113         39             497          57   \nA__DORNBIR01           67019        319            7045         440   \nA__EISENST01            6751         29              68          26   \nA__EISENST02           54806        147            4179         198   \nA__EISENST05            1802         67              18          10   \n...                      ...        ...             ...         ...   \nUnknown_PT                 0         39               0           0   \nUnknown_S              84018        531            9768         154   \nUnknown_SK                 0          4               0           0   \nUnknown_TR              3512          2               4           4   \nUnknown_UK                 0         34               0           0   \n\n              total_degree   roles  pagerank  \nA__BADEN01              96  role_1  0.000068  \nA__DORNBIR01           759  role_0  0.000417  \nA__EISENST01            55  role_1  0.000045  \nA__EISENST02           345  role_0  0.000124  \nA__EISENST05            77  role_1  0.000203  \n...                    ...     ...       ...  \nUnknown_PT              39  role_0  0.000075  \nUnknown_S              685  role_0  0.000407  \nUnknown_SK               4  role_0  0.000039  \nUnknown_TR               6  role_1  0.000038  \nUnknown_UK              34  role_0  0.000076  \n\n[3292 rows x 25 columns]\n"
     ]
    }
   ],
   "source": [
    "prdf = pd.DataFrame.from_dict(data= pr, orient=\"index\", columns=[\"pagerank\"]) \n",
    "features = features.join(prdf)\n",
    "print(features)\n",
    "# print(len(pr.keys()),len(node_roles.keys()))"
   ]
  },
  {
   "cell_type": "code",
   "execution_count": 47,
   "metadata": {},
   "outputs": [],
   "source": [
    "features.to_csv(\"../graphs/node_roles.csv\")"
   ]
  },
  {
   "cell_type": "code",
   "execution_count": null,
   "metadata": {},
   "outputs": [],
   "source": []
  }
 ]
}