{
 "cells": [
  {
   "cell_type": "code",
   "execution_count": 1,
   "metadata": {},
   "outputs": [],
   "source": [
    "import numpy as np\n",
    "import pandas as pd\n",
    "from collections import Counter\n",
    "\n",
    "import networkx as nx\n",
    "from graphrole import RecursiveFeatureExtractor, RoleExtractor\n",
    "\n",
    "from pprint import pprint\n",
    "\n",
    "import warnings\n",
    "warnings.filterwarnings(\"ignore\")"
   ]
  },
  {
   "cell_type": "code",
   "execution_count": 2,
   "metadata": {},
   "outputs": [],
   "source": [
    "edgelist = '../graphs/erasmus.weighted.edgelist'\n",
    "G = nx.read_weighted_edgelist(edgelist, create_using=nx.DiGraph)"
   ]
  },
  {
   "cell_type": "code",
   "execution_count": 3,
   "metadata": {},
   "outputs": [
    {
     "output_type": "stream",
     "name": "stdout",
     "text": [
      "Features extracted from 6 recursive generations\n"
     ]
    },
    {
     "output_type": "display_data",
     "data": {
      "text/plain": "              external_edges(mean)(mean)(mean)(mean)(mean)  \\\nA__BADEN01                                   145872.735983   \nA__DORNBIR01                                 140796.345033   \nA__EISENST01                                 146186.842411   \nA__EISENST02                                 143570.042382   \nA__EISENST05                                 114744.920677   \n...                                                    ...   \nUnknown_PT                                        0.000000   \nUnknown_S                                    143673.982646   \nUnknown_SK                                        0.000000   \nUnknown_TR                                   149752.078361   \nUnknown_UK                                        0.000000   \n\n              external_edges(mean)(mean)(mean)(mean)  \\\nA__BADEN01                             147234.072295   \nA__DORNBIR01                           139357.315492   \nA__EISENST01                           147283.474239   \nA__EISENST02                           143573.515287   \nA__EISENST05                           106447.105320   \n...                                              ...   \nUnknown_PT                                  0.000000   \nUnknown_S                              144216.937091   \nUnknown_SK                                  0.000000   \nUnknown_TR                             153436.749266   \nUnknown_UK                                  0.000000   \n\n              in_degree(mean)(mean)(mean)(mean)  \\\nA__BADEN01                          1648.438477   \nA__DORNBIR01                        1561.016769   \nA__EISENST01                        1640.960041   \nA__EISENST02                        1615.259526   \nA__EISENST05                        1193.635043   \n...                                         ...   \nUnknown_PT                             0.000000   \nUnknown_S                           1624.705248   \nUnknown_SK                             0.000000   \nUnknown_TR                          1739.489771   \nUnknown_UK                             0.000000   \n\n              external_edges(mean)(mean)(mean)  \\\nA__BADEN01                       150100.381828   \nA__DORNBIR01                     136178.848831   \nA__EISENST01                     148249.994481   \nA__EISENST02                     141482.052386   \nA__EISENST05                      94942.417391   \n...                                        ...   \nUnknown_PT                            0.000000   \nUnknown_S                        142741.090716   \nUnknown_SK                            0.000000   \nUnknown_TR                       157657.419963   \nUnknown_UK                            0.000000   \n\n              external_edges(sum)(mean)(mean)  in_degree(mean)(mean)(mean)  \\\nA__BADEN01                       2.393653e+07                  1719.977510   \nA__DORNBIR01                     2.036462e+07                  1519.730122   \nA__EISENST01                     2.435319e+07                  1648.415919   \nA__EISENST02                     2.269528e+07                  1573.059351   \nA__EISENST05                     1.302815e+07                  1040.738758   \n...                                       ...                          ...   \nUnknown_PT                       0.000000e+00                     0.000000   \nUnknown_S                        2.317479e+07                  1592.639936   \nUnknown_SK                       0.000000e+00                     0.000000   \nUnknown_TR                       2.826685e+07                  1744.385806   \nUnknown_UK                       0.000000e+00                     0.000000   \n\n              internal_edges(mean)(mean)(mean)  external_edges(mean)(mean)  \\\nA__BADEN01                        95710.686151               147089.610383   \nA__DORNBIR01                      80424.080669               126590.103192   \nA__EISENST01                      91963.204196               147461.397326   \nA__EISENST02                      84877.269691               137721.623927   \nA__EISENST05                      52021.453292                79459.623190   \n...                                        ...                         ...   \nUnknown_PT                            0.000000                    0.000000   \nUnknown_S                         86850.885537               140933.715583   \nUnknown_SK                            0.000000                    0.000000   \nUnknown_TR                       101158.031593               167362.391370   \nUnknown_UK                            0.000000                    0.000000   \n\n              external_edges(sum)(mean)  in_degree(mean)(mean)  ...  \\\nA__BADEN01                 2.735347e+07            1547.934582  ...   \nA__DORNBIR01               1.834780e+07            1381.258737  ...   \nA__EISENST01               2.300403e+07            1501.270859  ...   \nA__EISENST02               2.222955e+07            1562.420831  ...   \nA__EISENST05               7.742854e+06             841.886294  ...   \n...                                 ...                    ...  ...   \nUnknown_PT                 0.000000e+00               0.000000  ...   \nUnknown_S                  1.984955e+07            1576.270540  ...   \nUnknown_SK                 0.000000e+00               0.000000  ...   \nUnknown_TR                 4.309888e+07            1888.827451  ...   \nUnknown_UK                 0.000000e+00               0.000000  ...   \n\n              external_edges(sum)  in_degree(mean)  internal_edges(mean)  \\\nA__BADEN01              2091414.0      1929.615385          95401.307692   \nA__DORNBIR01            7148348.0      1368.935484          54767.532258   \nA__EISENST01             683215.0      1217.800000          70065.600000   \nA__EISENST02            5970714.0      1621.214286          75585.857143   \nA__EISENST05             324101.0       364.200000          12833.000000   \n...                           ...              ...                   ...   \nUnknown_PT                    0.0         0.000000              0.000000   \nUnknown_S               9689570.0      1416.578947          64126.776316   \nUnknown_SK                    0.0         0.000000              0.000000   \nUnknown_TR               477746.0      1316.500000         202491.500000   \nUnknown_UK                    0.0         0.000000              0.000000   \n\n              out_degree(mean)  total_degree(mean)  external_edges  in_degree  \\\nA__BADEN01         1734.846154         3664.461538         22113.0       39.0   \nA__DORNBIR01       1187.483871         2556.419355         67019.0      319.0   \nA__EISENST01       1358.600000         2576.400000          6751.0       29.0   \nA__EISENST02       1399.690476         3020.904762         54806.0      147.0   \nA__EISENST05        362.000000          726.200000          1802.0       67.0   \n...                        ...                 ...             ...        ...   \nUnknown_PT            0.000000            0.000000             0.0       39.0   \nUnknown_S          1232.000000         2648.578947         84018.0      531.0   \nUnknown_SK            0.000000            0.000000             0.0        4.0   \nUnknown_TR         1756.000000         3072.500000          3512.0        2.0   \nUnknown_UK            0.000000            0.000000             0.0       34.0   \n\n              internal_edges  out_degree  total_degree  \nA__BADEN01             497.0        57.0          96.0  \nA__DORNBIR01          7045.0       440.0         759.0  \nA__EISENST01            68.0        26.0          55.0  \nA__EISENST02          4179.0       198.0         345.0  \nA__EISENST05            18.0        10.0          77.0  \n...                      ...         ...           ...  \nUnknown_PT               0.0         0.0          39.0  \nUnknown_S             9768.0       154.0         685.0  \nUnknown_SK               0.0         0.0           4.0  \nUnknown_TR               4.0         4.0           6.0  \nUnknown_UK               0.0         0.0          34.0  \n\n[3292 rows x 23 columns]",
      "text/html": "<div>\n<style scoped>\n    .dataframe tbody tr th:only-of-type {\n        vertical-align: middle;\n    }\n\n    .dataframe tbody tr th {\n        vertical-align: top;\n    }\n\n    .dataframe thead th {\n        text-align: right;\n    }\n</style>\n<table border=\"1\" class=\"dataframe\">\n  <thead>\n    <tr style=\"text-align: right;\">\n      <th></th>\n      <th>external_edges(mean)(mean)(mean)(mean)(mean)</th>\n      <th>external_edges(mean)(mean)(mean)(mean)</th>\n      <th>in_degree(mean)(mean)(mean)(mean)</th>\n      <th>external_edges(mean)(mean)(mean)</th>\n      <th>external_edges(sum)(mean)(mean)</th>\n      <th>in_degree(mean)(mean)(mean)</th>\n      <th>internal_edges(mean)(mean)(mean)</th>\n      <th>external_edges(mean)(mean)</th>\n      <th>external_edges(sum)(mean)</th>\n      <th>in_degree(mean)(mean)</th>\n      <th>...</th>\n      <th>external_edges(sum)</th>\n      <th>in_degree(mean)</th>\n      <th>internal_edges(mean)</th>\n      <th>out_degree(mean)</th>\n      <th>total_degree(mean)</th>\n      <th>external_edges</th>\n      <th>in_degree</th>\n      <th>internal_edges</th>\n      <th>out_degree</th>\n      <th>total_degree</th>\n    </tr>\n  </thead>\n  <tbody>\n    <tr>\n      <th>A__BADEN01</th>\n      <td>145872.735983</td>\n      <td>147234.072295</td>\n      <td>1648.438477</td>\n      <td>150100.381828</td>\n      <td>2.393653e+07</td>\n      <td>1719.977510</td>\n      <td>95710.686151</td>\n      <td>147089.610383</td>\n      <td>2.735347e+07</td>\n      <td>1547.934582</td>\n      <td>...</td>\n      <td>2091414.0</td>\n      <td>1929.615385</td>\n      <td>95401.307692</td>\n      <td>1734.846154</td>\n      <td>3664.461538</td>\n      <td>22113.0</td>\n      <td>39.0</td>\n      <td>497.0</td>\n      <td>57.0</td>\n      <td>96.0</td>\n    </tr>\n    <tr>\n      <th>A__DORNBIR01</th>\n      <td>140796.345033</td>\n      <td>139357.315492</td>\n      <td>1561.016769</td>\n      <td>136178.848831</td>\n      <td>2.036462e+07</td>\n      <td>1519.730122</td>\n      <td>80424.080669</td>\n      <td>126590.103192</td>\n      <td>1.834780e+07</td>\n      <td>1381.258737</td>\n      <td>...</td>\n      <td>7148348.0</td>\n      <td>1368.935484</td>\n      <td>54767.532258</td>\n      <td>1187.483871</td>\n      <td>2556.419355</td>\n      <td>67019.0</td>\n      <td>319.0</td>\n      <td>7045.0</td>\n      <td>440.0</td>\n      <td>759.0</td>\n    </tr>\n    <tr>\n      <th>A__EISENST01</th>\n      <td>146186.842411</td>\n      <td>147283.474239</td>\n      <td>1640.960041</td>\n      <td>148249.994481</td>\n      <td>2.435319e+07</td>\n      <td>1648.415919</td>\n      <td>91963.204196</td>\n      <td>147461.397326</td>\n      <td>2.300403e+07</td>\n      <td>1501.270859</td>\n      <td>...</td>\n      <td>683215.0</td>\n      <td>1217.800000</td>\n      <td>70065.600000</td>\n      <td>1358.600000</td>\n      <td>2576.400000</td>\n      <td>6751.0</td>\n      <td>29.0</td>\n      <td>68.0</td>\n      <td>26.0</td>\n      <td>55.0</td>\n    </tr>\n    <tr>\n      <th>A__EISENST02</th>\n      <td>143570.042382</td>\n      <td>143573.515287</td>\n      <td>1615.259526</td>\n      <td>141482.052386</td>\n      <td>2.269528e+07</td>\n      <td>1573.059351</td>\n      <td>84877.269691</td>\n      <td>137721.623927</td>\n      <td>2.222955e+07</td>\n      <td>1562.420831</td>\n      <td>...</td>\n      <td>5970714.0</td>\n      <td>1621.214286</td>\n      <td>75585.857143</td>\n      <td>1399.690476</td>\n      <td>3020.904762</td>\n      <td>54806.0</td>\n      <td>147.0</td>\n      <td>4179.0</td>\n      <td>198.0</td>\n      <td>345.0</td>\n    </tr>\n    <tr>\n      <th>A__EISENST05</th>\n      <td>114744.920677</td>\n      <td>106447.105320</td>\n      <td>1193.635043</td>\n      <td>94942.417391</td>\n      <td>1.302815e+07</td>\n      <td>1040.738758</td>\n      <td>52021.453292</td>\n      <td>79459.623190</td>\n      <td>7.742854e+06</td>\n      <td>841.886294</td>\n      <td>...</td>\n      <td>324101.0</td>\n      <td>364.200000</td>\n      <td>12833.000000</td>\n      <td>362.000000</td>\n      <td>726.200000</td>\n      <td>1802.0</td>\n      <td>67.0</td>\n      <td>18.0</td>\n      <td>10.0</td>\n      <td>77.0</td>\n    </tr>\n    <tr>\n      <th>...</th>\n      <td>...</td>\n      <td>...</td>\n      <td>...</td>\n      <td>...</td>\n      <td>...</td>\n      <td>...</td>\n      <td>...</td>\n      <td>...</td>\n      <td>...</td>\n      <td>...</td>\n      <td>...</td>\n      <td>...</td>\n      <td>...</td>\n      <td>...</td>\n      <td>...</td>\n      <td>...</td>\n      <td>...</td>\n      <td>...</td>\n      <td>...</td>\n      <td>...</td>\n      <td>...</td>\n    </tr>\n    <tr>\n      <th>Unknown_PT</th>\n      <td>0.000000</td>\n      <td>0.000000</td>\n      <td>0.000000</td>\n      <td>0.000000</td>\n      <td>0.000000e+00</td>\n      <td>0.000000</td>\n      <td>0.000000</td>\n      <td>0.000000</td>\n      <td>0.000000e+00</td>\n      <td>0.000000</td>\n      <td>...</td>\n      <td>0.0</td>\n      <td>0.000000</td>\n      <td>0.000000</td>\n      <td>0.000000</td>\n      <td>0.000000</td>\n      <td>0.0</td>\n      <td>39.0</td>\n      <td>0.0</td>\n      <td>0.0</td>\n      <td>39.0</td>\n    </tr>\n    <tr>\n      <th>Unknown_S</th>\n      <td>143673.982646</td>\n      <td>144216.937091</td>\n      <td>1624.705248</td>\n      <td>142741.090716</td>\n      <td>2.317479e+07</td>\n      <td>1592.639936</td>\n      <td>86850.885537</td>\n      <td>140933.715583</td>\n      <td>1.984955e+07</td>\n      <td>1576.270540</td>\n      <td>...</td>\n      <td>9689570.0</td>\n      <td>1416.578947</td>\n      <td>64126.776316</td>\n      <td>1232.000000</td>\n      <td>2648.578947</td>\n      <td>84018.0</td>\n      <td>531.0</td>\n      <td>9768.0</td>\n      <td>154.0</td>\n      <td>685.0</td>\n    </tr>\n    <tr>\n      <th>Unknown_SK</th>\n      <td>0.000000</td>\n      <td>0.000000</td>\n      <td>0.000000</td>\n      <td>0.000000</td>\n      <td>0.000000e+00</td>\n      <td>0.000000</td>\n      <td>0.000000</td>\n      <td>0.000000</td>\n      <td>0.000000e+00</td>\n      <td>0.000000</td>\n      <td>...</td>\n      <td>0.0</td>\n      <td>0.000000</td>\n      <td>0.000000</td>\n      <td>0.000000</td>\n      <td>0.000000</td>\n      <td>0.0</td>\n      <td>4.0</td>\n      <td>0.0</td>\n      <td>0.0</td>\n      <td>4.0</td>\n    </tr>\n    <tr>\n      <th>Unknown_TR</th>\n      <td>149752.078361</td>\n      <td>153436.749266</td>\n      <td>1739.489771</td>\n      <td>157657.419963</td>\n      <td>2.826685e+07</td>\n      <td>1744.385806</td>\n      <td>101158.031593</td>\n      <td>167362.391370</td>\n      <td>4.309888e+07</td>\n      <td>1888.827451</td>\n      <td>...</td>\n      <td>477746.0</td>\n      <td>1316.500000</td>\n      <td>202491.500000</td>\n      <td>1756.000000</td>\n      <td>3072.500000</td>\n      <td>3512.0</td>\n      <td>2.0</td>\n      <td>4.0</td>\n      <td>4.0</td>\n      <td>6.0</td>\n    </tr>\n    <tr>\n      <th>Unknown_UK</th>\n      <td>0.000000</td>\n      <td>0.000000</td>\n      <td>0.000000</td>\n      <td>0.000000</td>\n      <td>0.000000e+00</td>\n      <td>0.000000</td>\n      <td>0.000000</td>\n      <td>0.000000</td>\n      <td>0.000000e+00</td>\n      <td>0.000000</td>\n      <td>...</td>\n      <td>0.0</td>\n      <td>0.000000</td>\n      <td>0.000000</td>\n      <td>0.000000</td>\n      <td>0.000000</td>\n      <td>0.0</td>\n      <td>34.0</td>\n      <td>0.0</td>\n      <td>0.0</td>\n      <td>34.0</td>\n    </tr>\n  </tbody>\n</table>\n<p>3292 rows × 23 columns</p>\n</div>"
     },
     "metadata": {}
    }
   ],
   "source": [
    "# extract recursive features (may take some time)\n",
    "feature_extractor = RecursiveFeatureExtractor(G, max_generations=10)\n",
    "df_features = feature_extractor.extract_features()\n",
    "\n",
    "print(f'Features extracted from {feature_extractor.generation_count} recursive generations')\n",
    "display(df_features)"
   ]
  },
  {
   "cell_type": "code",
   "execution_count": 4,
   "metadata": {
    "tags": []
   },
   "outputs": [
    {
     "output_type": "stream",
     "name": "stdout",
     "text": [
      "Node role membership by percentage\n"
     ]
    },
    {
     "output_type": "display_data",
     "data": {
      "text/plain": "              role_0  role_1  role_2  role_3  role_4  role_5  role_6  role_7\nA__BADEN01      0.01    0.39    0.01    0.01    0.20    0.01    0.20    0.20\nA__DORNBIR01    0.01    0.20    0.01    0.01    0.01    0.01    0.39    0.39\nA__EISENST01    0.01    0.39    0.01    0.20    0.20    0.01    0.01    0.20\nA__EISENST02    0.00    0.31    0.00    0.00    0.00    0.15    0.52    0.00\nA__EISENST05    0.01    0.32    0.01    0.01    0.63    0.01    0.01    0.01\n...              ...     ...     ...     ...     ...     ...     ...     ...\nUnknown_PT      0.12    0.12    0.12    0.12    0.12    0.12    0.12    0.12\nUnknown_S       0.00    0.00    0.00    0.00    0.00    0.00    0.61    0.36\nUnknown_SK      0.12    0.12    0.12    0.12    0.12    0.12    0.12    0.12\nUnknown_TR      0.00    0.45    0.13    0.00    0.13    0.00    0.27    0.00\nUnknown_UK      0.12    0.12    0.12    0.12    0.12    0.12    0.12    0.12\n\n[3292 rows x 8 columns]",
      "text/html": "<div>\n<style scoped>\n    .dataframe tbody tr th:only-of-type {\n        vertical-align: middle;\n    }\n\n    .dataframe tbody tr th {\n        vertical-align: top;\n    }\n\n    .dataframe thead th {\n        text-align: right;\n    }\n</style>\n<table border=\"1\" class=\"dataframe\">\n  <thead>\n    <tr style=\"text-align: right;\">\n      <th></th>\n      <th>role_0</th>\n      <th>role_1</th>\n      <th>role_2</th>\n      <th>role_3</th>\n      <th>role_4</th>\n      <th>role_5</th>\n      <th>role_6</th>\n      <th>role_7</th>\n    </tr>\n  </thead>\n  <tbody>\n    <tr>\n      <th>A__BADEN01</th>\n      <td>0.01</td>\n      <td>0.39</td>\n      <td>0.01</td>\n      <td>0.01</td>\n      <td>0.20</td>\n      <td>0.01</td>\n      <td>0.20</td>\n      <td>0.20</td>\n    </tr>\n    <tr>\n      <th>A__DORNBIR01</th>\n      <td>0.01</td>\n      <td>0.20</td>\n      <td>0.01</td>\n      <td>0.01</td>\n      <td>0.01</td>\n      <td>0.01</td>\n      <td>0.39</td>\n      <td>0.39</td>\n    </tr>\n    <tr>\n      <th>A__EISENST01</th>\n      <td>0.01</td>\n      <td>0.39</td>\n      <td>0.01</td>\n      <td>0.20</td>\n      <td>0.20</td>\n      <td>0.01</td>\n      <td>0.01</td>\n      <td>0.20</td>\n    </tr>\n    <tr>\n      <th>A__EISENST02</th>\n      <td>0.00</td>\n      <td>0.31</td>\n      <td>0.00</td>\n      <td>0.00</td>\n      <td>0.00</td>\n      <td>0.15</td>\n      <td>0.52</td>\n      <td>0.00</td>\n    </tr>\n    <tr>\n      <th>A__EISENST05</th>\n      <td>0.01</td>\n      <td>0.32</td>\n      <td>0.01</td>\n      <td>0.01</td>\n      <td>0.63</td>\n      <td>0.01</td>\n      <td>0.01</td>\n      <td>0.01</td>\n    </tr>\n    <tr>\n      <th>...</th>\n      <td>...</td>\n      <td>...</td>\n      <td>...</td>\n      <td>...</td>\n      <td>...</td>\n      <td>...</td>\n      <td>...</td>\n      <td>...</td>\n    </tr>\n    <tr>\n      <th>Unknown_PT</th>\n      <td>0.12</td>\n      <td>0.12</td>\n      <td>0.12</td>\n      <td>0.12</td>\n      <td>0.12</td>\n      <td>0.12</td>\n      <td>0.12</td>\n      <td>0.12</td>\n    </tr>\n    <tr>\n      <th>Unknown_S</th>\n      <td>0.00</td>\n      <td>0.00</td>\n      <td>0.00</td>\n      <td>0.00</td>\n      <td>0.00</td>\n      <td>0.00</td>\n      <td>0.61</td>\n      <td>0.36</td>\n    </tr>\n    <tr>\n      <th>Unknown_SK</th>\n      <td>0.12</td>\n      <td>0.12</td>\n      <td>0.12</td>\n      <td>0.12</td>\n      <td>0.12</td>\n      <td>0.12</td>\n      <td>0.12</td>\n      <td>0.12</td>\n    </tr>\n    <tr>\n      <th>Unknown_TR</th>\n      <td>0.00</td>\n      <td>0.45</td>\n      <td>0.13</td>\n      <td>0.00</td>\n      <td>0.13</td>\n      <td>0.00</td>\n      <td>0.27</td>\n      <td>0.00</td>\n    </tr>\n    <tr>\n      <th>Unknown_UK</th>\n      <td>0.12</td>\n      <td>0.12</td>\n      <td>0.12</td>\n      <td>0.12</td>\n      <td>0.12</td>\n      <td>0.12</td>\n      <td>0.12</td>\n      <td>0.12</td>\n    </tr>\n  </tbody>\n</table>\n<p>3292 rows × 8 columns</p>\n</div>"
     },
     "metadata": {}
    }
   ],
   "source": [
    "# assign node roles\n",
    "role_extractor = RoleExtractor(n_roles=None)\n",
    "role_extractor.extract_role_factors(df_features)\n",
    "dic_node_role = role_extractor.roles\n",
    "\n",
    "df_node_role_percentage = role_extractor.role_percentage.round(2)\n",
    "\n",
    "print('Node role membership by percentage')\n",
    "display(df_node_role_percentage)"
   ]
  },
  {
   "cell_type": "code",
   "execution_count": 5,
   "metadata": {
    "tags": []
   },
   "outputs": [
    {
     "output_type": "stream",
     "name": "stdout",
     "text": [
      "Counter({'role_1': 1213,\n         'role_4': 570,\n         'role_0': 513,\n         'role_6': 321,\n         'role_2': 252,\n         'role_3': 168,\n         'role_7': 149,\n         'role_5': 106})\n"
     ]
    }
   ],
   "source": [
    "role_count = Counter(dic_node_role.values())\n",
    "pprint(role_count)"
   ]
  },
  {
   "cell_type": "markdown",
   "metadata": {},
   "source": [
    "## Feature Grouping\n",
    "Given a node-feature matrix $V_{n\\times f}$ obtained from recursive feature extraction\\\n",
    "Approximate $$GF \\approx V$$\n",
    "$G_{n\\times r}$: nodes's membership in each role\\\n",
    "$F_{r\\times f}$: role's contribution in each feature"
   ]
  },
  {
   "cell_type": "code",
   "execution_count": 6,
   "metadata": {},
   "outputs": [],
   "source": [
    "# TODO\n",
    "# 1. Use Non-negative Matrix Factorization to decompose V.\n",
    "#    graphrole/rolse/factor.py > get_nmf_decomposition()\n",
    "# Get G to further calculate NodeSense."
   ]
  },
  {
   "cell_type": "code",
   "execution_count": 8,
   "metadata": {
    "tags": []
   },
   "outputs": [],
   "source": [
    "df_node_role = pd.DataFrame.from_dict(data=dic_node_role, orient=\"index\", columns=[\"roles\"])\n",
    "features = df_features.join(df_node_role)"
   ]
  },
  {
   "cell_type": "code",
   "execution_count": 9,
   "metadata": {
    "tags": []
   },
   "outputs": [],
   "source": [
    "pr = nx.pagerank(G, alpha=0.9)\n",
    "\n",
    "# features[\"pagerank\"] = pr.values()"
   ]
  },
  {
   "cell_type": "code",
   "execution_count": 10,
   "metadata": {},
   "outputs": [
    {
     "output_type": "stream",
     "name": "stdout",
     "text": [
      "              external_edges(mean)(mean)(mean)(mean)(mean)  \\\nA__BADEN01                                   145872.735983   \nA__DORNBIR01                                 140796.345033   \nA__EISENST01                                 146186.842411   \nA__EISENST02                                 143570.042382   \nA__EISENST05                                 114744.920677   \n...                                                    ...   \nUnknown_PT                                        0.000000   \nUnknown_S                                    143673.982646   \nUnknown_SK                                        0.000000   \nUnknown_TR                                   149752.078361   \nUnknown_UK                                        0.000000   \n\n              external_edges(mean)(mean)(mean)(mean)  \\\nA__BADEN01                             147234.072295   \nA__DORNBIR01                           139357.315492   \nA__EISENST01                           147283.474239   \nA__EISENST02                           143573.515287   \nA__EISENST05                           106447.105320   \n...                                              ...   \nUnknown_PT                                  0.000000   \nUnknown_S                              144216.937091   \nUnknown_SK                                  0.000000   \nUnknown_TR                             153436.749266   \nUnknown_UK                                  0.000000   \n\n              in_degree(mean)(mean)(mean)(mean)  \\\nA__BADEN01                          1648.438477   \nA__DORNBIR01                        1561.016769   \nA__EISENST01                        1640.960041   \nA__EISENST02                        1615.259526   \nA__EISENST05                        1193.635043   \n...                                         ...   \nUnknown_PT                             0.000000   \nUnknown_S                           1624.705248   \nUnknown_SK                             0.000000   \nUnknown_TR                          1739.489771   \nUnknown_UK                             0.000000   \n\n              external_edges(mean)(mean)(mean)  \\\nA__BADEN01                       150100.381828   \nA__DORNBIR01                     136178.848831   \nA__EISENST01                     148249.994481   \nA__EISENST02                     141482.052386   \nA__EISENST05                      94942.417391   \n...                                        ...   \nUnknown_PT                            0.000000   \nUnknown_S                        142741.090716   \nUnknown_SK                            0.000000   \nUnknown_TR                       157657.419963   \nUnknown_UK                            0.000000   \n\n              external_edges(sum)(mean)(mean)  in_degree(mean)(mean)(mean)  \\\nA__BADEN01                       2.393653e+07                  1719.977510   \nA__DORNBIR01                     2.036462e+07                  1519.730122   \nA__EISENST01                     2.435319e+07                  1648.415919   \nA__EISENST02                     2.269528e+07                  1573.059351   \nA__EISENST05                     1.302815e+07                  1040.738758   \n...                                       ...                          ...   \nUnknown_PT                       0.000000e+00                     0.000000   \nUnknown_S                        2.317479e+07                  1592.639936   \nUnknown_SK                       0.000000e+00                     0.000000   \nUnknown_TR                       2.826685e+07                  1744.385806   \nUnknown_UK                       0.000000e+00                     0.000000   \n\n              internal_edges(mean)(mean)(mean)  external_edges(mean)(mean)  \\\nA__BADEN01                        95710.686151               147089.610383   \nA__DORNBIR01                      80424.080669               126590.103192   \nA__EISENST01                      91963.204196               147461.397326   \nA__EISENST02                      84877.269691               137721.623927   \nA__EISENST05                      52021.453292                79459.623190   \n...                                        ...                         ...   \nUnknown_PT                            0.000000                    0.000000   \nUnknown_S                         86850.885537               140933.715583   \nUnknown_SK                            0.000000                    0.000000   \nUnknown_TR                       101158.031593               167362.391370   \nUnknown_UK                            0.000000                    0.000000   \n\n              external_edges(sum)(mean)  in_degree(mean)(mean)  ...  \\\nA__BADEN01                 2.735347e+07            1547.934582  ...   \nA__DORNBIR01               1.834780e+07            1381.258737  ...   \nA__EISENST01               2.300403e+07            1501.270859  ...   \nA__EISENST02               2.222955e+07            1562.420831  ...   \nA__EISENST05               7.742854e+06             841.886294  ...   \n...                                 ...                    ...  ...   \nUnknown_PT                 0.000000e+00               0.000000  ...   \nUnknown_S                  1.984955e+07            1576.270540  ...   \nUnknown_SK                 0.000000e+00               0.000000  ...   \nUnknown_TR                 4.309888e+07            1888.827451  ...   \nUnknown_UK                 0.000000e+00               0.000000  ...   \n\n              internal_edges(mean)  out_degree(mean)  total_degree(mean)  \\\nA__BADEN01            95401.307692       1734.846154         3664.461538   \nA__DORNBIR01          54767.532258       1187.483871         2556.419355   \nA__EISENST01          70065.600000       1358.600000         2576.400000   \nA__EISENST02          75585.857143       1399.690476         3020.904762   \nA__EISENST05          12833.000000        362.000000          726.200000   \n...                            ...               ...                 ...   \nUnknown_PT                0.000000          0.000000            0.000000   \nUnknown_S             64126.776316       1232.000000         2648.578947   \nUnknown_SK                0.000000          0.000000            0.000000   \nUnknown_TR           202491.500000       1756.000000         3072.500000   \nUnknown_UK                0.000000          0.000000            0.000000   \n\n              external_edges  in_degree  internal_edges  out_degree  \\\nA__BADEN01           22113.0       39.0           497.0        57.0   \nA__DORNBIR01         67019.0      319.0          7045.0       440.0   \nA__EISENST01          6751.0       29.0            68.0        26.0   \nA__EISENST02         54806.0      147.0          4179.0       198.0   \nA__EISENST05          1802.0       67.0            18.0        10.0   \n...                      ...        ...             ...         ...   \nUnknown_PT               0.0       39.0             0.0         0.0   \nUnknown_S            84018.0      531.0          9768.0       154.0   \nUnknown_SK               0.0        4.0             0.0         0.0   \nUnknown_TR            3512.0        2.0             4.0         4.0   \nUnknown_UK               0.0       34.0             0.0         0.0   \n\n              total_degree   roles  pagerank  \nA__BADEN01            96.0  role_1  0.000068  \nA__DORNBIR01         759.0  role_6  0.000417  \nA__EISENST01          55.0  role_1  0.000045  \nA__EISENST02         345.0  role_6  0.000124  \nA__EISENST05          77.0  role_4  0.000203  \n...                    ...     ...       ...  \nUnknown_PT            39.0  role_0  0.000075  \nUnknown_S            685.0  role_6  0.000407  \nUnknown_SK             4.0  role_0  0.000039  \nUnknown_TR             6.0  role_1  0.000038  \nUnknown_UK            34.0  role_0  0.000076  \n\n[3292 rows x 25 columns]\n"
     ]
    }
   ],
   "source": [
    "prdf = pd.DataFrame.from_dict(data=pr, orient=\"index\", columns=[\"pagerank\"]) \n",
    "features = features.join(prdf)\n",
    "print(features)\n",
    "# print(len(pr.keys()),len(node_roles.keys()))"
   ]
  },
  {
   "cell_type": "code",
   "execution_count": 11,
   "metadata": {},
   "outputs": [],
   "source": [
    "features.to_csv(\"../graphs/node_roles.csv\")"
   ]
  }
 ],
 "metadata": {
  "kernelspec": {
   "display_name": "Python 3.9.4 64-bit ('rolx')",
   "language": "python",
   "name": "python39464bitrolx4b2498356ee443768a65317a6b7d0648"
  },
  "language_info": {
   "codemirror_mode": {
    "name": "ipython",
    "version": 3
   },
   "file_extension": ".py",
   "mimetype": "text/x-python",
   "name": "python",
   "nbconvert_exporter": "python",
   "pygments_lexer": "ipython3",
   "version": "3.7.8-final"
  }
 },
 "nbformat": 4,
 "nbformat_minor": 4
}