{
 "metadata": {
  "language_info": {
   "codemirror_mode": {
    "name": "ipython",
    "version": 3
   },
   "file_extension": ".py",
   "mimetype": "text/x-python",
   "name": "python",
   "nbconvert_exporter": "python",
   "pygments_lexer": "ipython3",
   "version": "3.7.8-final"
  },
  "orig_nbformat": 2,
  "kernelspec": {
   "name": "python37864bitrolx55f4ee194c4d442e849ba573bd39d0bc",
   "display_name": "Python 3.7.8 64-bit ('rolx')"
  }
 },
 "nbformat": 4,
 "nbformat_minor": 2,
 "cells": [
  {
   "cell_type": "code",
   "execution_count": 11,
   "metadata": {},
   "outputs": [],
   "source": [
    "import warnings\n",
    "from pprint import pprint\n",
    "from collections import Counter\n",
    "import pandas as pd\n",
    "import networkx as nx\n",
    "import matplotlib.pyplot as plt\n",
    "from graphrole import RecursiveFeatureExtractor, RoleExtractor\n",
    "import seaborn as sns\n",
    "import numpy as np"
   ]
  },
  {
   "cell_type": "code",
   "execution_count": 12,
   "metadata": {},
   "outputs": [
    {
     "output_type": "error",
     "ename": "UnpicklingError",
     "evalue": "invalid load key, 'A'.",
     "traceback": [
      "\u001b[0;31m---------------------------------------------------------------------------\u001b[0m",
      "\u001b[0;31mUnpicklingError\u001b[0m                           Traceback (most recent call last)",
      "\u001b[0;32m<ipython-input-12-9c619c055a5c>\u001b[0m in \u001b[0;36m<module>\u001b[0;34m\u001b[0m\n\u001b[0;32m----> 1\u001b[0;31m \u001b[0mG\u001b[0m \u001b[0;34m=\u001b[0m \u001b[0mnx\u001b[0m\u001b[0;34m.\u001b[0m\u001b[0mread_gpickle\u001b[0m\u001b[0;34m(\u001b[0m\u001b[0;34m'../graphs/edge_list.csv'\u001b[0m\u001b[0;34m)\u001b[0m\u001b[0;34m\u001b[0m\u001b[0;34m\u001b[0m\u001b[0m\n\u001b[0m",
      "\u001b[0;32m~/.pyenv/versions/rolx/lib/python3.7/site-packages/decorator.py\u001b[0m in \u001b[0;36mfun\u001b[0;34m(*args, **kw)\u001b[0m\n\u001b[1;32m    230\u001b[0m             \u001b[0;32mif\u001b[0m \u001b[0;32mnot\u001b[0m \u001b[0mkwsyntax\u001b[0m\u001b[0;34m:\u001b[0m\u001b[0;34m\u001b[0m\u001b[0;34m\u001b[0m\u001b[0m\n\u001b[1;32m    231\u001b[0m                 \u001b[0margs\u001b[0m\u001b[0;34m,\u001b[0m \u001b[0mkw\u001b[0m \u001b[0;34m=\u001b[0m \u001b[0mfix\u001b[0m\u001b[0;34m(\u001b[0m\u001b[0margs\u001b[0m\u001b[0;34m,\u001b[0m \u001b[0mkw\u001b[0m\u001b[0;34m,\u001b[0m \u001b[0msig\u001b[0m\u001b[0;34m)\u001b[0m\u001b[0;34m\u001b[0m\u001b[0;34m\u001b[0m\u001b[0m\n\u001b[0;32m--> 232\u001b[0;31m             \u001b[0;32mreturn\u001b[0m \u001b[0mcaller\u001b[0m\u001b[0;34m(\u001b[0m\u001b[0mfunc\u001b[0m\u001b[0;34m,\u001b[0m \u001b[0;34m*\u001b[0m\u001b[0;34m(\u001b[0m\u001b[0mextras\u001b[0m \u001b[0;34m+\u001b[0m \u001b[0margs\u001b[0m\u001b[0;34m)\u001b[0m\u001b[0;34m,\u001b[0m \u001b[0;34m**\u001b[0m\u001b[0mkw\u001b[0m\u001b[0;34m)\u001b[0m\u001b[0;34m\u001b[0m\u001b[0;34m\u001b[0m\u001b[0m\n\u001b[0m\u001b[1;32m    233\u001b[0m     \u001b[0mfun\u001b[0m\u001b[0;34m.\u001b[0m\u001b[0m__name__\u001b[0m \u001b[0;34m=\u001b[0m \u001b[0mfunc\u001b[0m\u001b[0;34m.\u001b[0m\u001b[0m__name__\u001b[0m\u001b[0;34m\u001b[0m\u001b[0;34m\u001b[0m\u001b[0m\n\u001b[1;32m    234\u001b[0m     \u001b[0mfun\u001b[0m\u001b[0;34m.\u001b[0m\u001b[0m__doc__\u001b[0m \u001b[0;34m=\u001b[0m \u001b[0mfunc\u001b[0m\u001b[0;34m.\u001b[0m\u001b[0m__doc__\u001b[0m\u001b[0;34m\u001b[0m\u001b[0;34m\u001b[0m\u001b[0m\n",
      "\u001b[0;32m~/.pyenv/versions/rolx/lib/python3.7/site-packages/networkx/utils/decorators.py\u001b[0m in \u001b[0;36m_open_file\u001b[0;34m(func_to_be_decorated, *args, **kwargs)\u001b[0m\n\u001b[1;32m    237\u001b[0m         \u001b[0;31m# Finally, we call the original function, making sure to close the fobj\u001b[0m\u001b[0;34m\u001b[0m\u001b[0;34m\u001b[0m\u001b[0;34m\u001b[0m\u001b[0m\n\u001b[1;32m    238\u001b[0m         \u001b[0;32mtry\u001b[0m\u001b[0;34m:\u001b[0m\u001b[0;34m\u001b[0m\u001b[0;34m\u001b[0m\u001b[0m\n\u001b[0;32m--> 239\u001b[0;31m             \u001b[0mresult\u001b[0m \u001b[0;34m=\u001b[0m \u001b[0mfunc_to_be_decorated\u001b[0m\u001b[0;34m(\u001b[0m\u001b[0;34m*\u001b[0m\u001b[0mnew_args\u001b[0m\u001b[0;34m,\u001b[0m \u001b[0;34m**\u001b[0m\u001b[0mkwargs\u001b[0m\u001b[0;34m)\u001b[0m\u001b[0;34m\u001b[0m\u001b[0;34m\u001b[0m\u001b[0m\n\u001b[0m\u001b[1;32m    240\u001b[0m         \u001b[0;32mfinally\u001b[0m\u001b[0;34m:\u001b[0m\u001b[0;34m\u001b[0m\u001b[0;34m\u001b[0m\u001b[0m\n\u001b[1;32m    241\u001b[0m             \u001b[0;32mif\u001b[0m \u001b[0mclose_fobj\u001b[0m\u001b[0;34m:\u001b[0m\u001b[0;34m\u001b[0m\u001b[0;34m\u001b[0m\u001b[0m\n",
      "\u001b[0;32m~/.pyenv/versions/rolx/lib/python3.7/site-packages/networkx/readwrite/gpickle.py\u001b[0m in \u001b[0;36mread_gpickle\u001b[0;34m(path)\u001b[0m\n\u001b[1;32m     88\u001b[0m     \u001b[0;34m.\u001b[0m\u001b[0;34m.\u001b[0m \u001b[0;34m[\u001b[0m\u001b[0;36m1\u001b[0m\u001b[0;34m]\u001b[0m \u001b[0mhttps\u001b[0m\u001b[0;34m:\u001b[0m\u001b[0;34m//\u001b[0m\u001b[0mdocs\u001b[0m\u001b[0;34m.\u001b[0m\u001b[0mpython\u001b[0m\u001b[0;34m.\u001b[0m\u001b[0morg\u001b[0m\u001b[0;34m/\u001b[0m\u001b[0;36m3\u001b[0m\u001b[0;34m/\u001b[0m\u001b[0mlibrary\u001b[0m\u001b[0;34m/\u001b[0m\u001b[0mpickle\u001b[0m\u001b[0;34m.\u001b[0m\u001b[0mhtml\u001b[0m\u001b[0;34m\u001b[0m\u001b[0;34m\u001b[0m\u001b[0m\n\u001b[1;32m     89\u001b[0m     \"\"\"\n\u001b[0;32m---> 90\u001b[0;31m     \u001b[0;32mreturn\u001b[0m \u001b[0mpickle\u001b[0m\u001b[0;34m.\u001b[0m\u001b[0mload\u001b[0m\u001b[0;34m(\u001b[0m\u001b[0mpath\u001b[0m\u001b[0;34m)\u001b[0m\u001b[0;34m\u001b[0m\u001b[0;34m\u001b[0m\u001b[0m\n\u001b[0m",
      "\u001b[0;31mUnpicklingError\u001b[0m: invalid load key, 'A'."
     ]
    }
   ],
   "source": [
    "G = nx.read_gpickle('../graphs/edge_list')"
   ]
  },
  {
   "cell_type": "code",
   "execution_count": 3,
   "metadata": {},
   "outputs": [],
   "source": [
    "feature_extractor = RecursiveFeatureExtractor(G, max_generations=10)\n",
    "features = feature_extractor.extract_features()"
   ]
  },
  {
   "cell_type": "code",
   "execution_count": 4,
   "metadata": {},
   "outputs": [
    {
     "output_type": "stream",
     "name": "stdout",
     "text": [
      "\nFeatures extracted from 6 recursive generations:\n              degree(mean)(mean)(mean)(mean)(mean)  \\\nA__BADEN01                             1701.544446   \nA__DORNBIR01                           1656.864364   \nA__EISENST01                           1700.954515   \nA__EISENST02                           1669.111019   \nA__EISENST05                           1251.302076   \n...                                            ...   \nUnknown_PT                             1682.596092   \nUnknown_S                              1685.604524   \nUnknown_SK                             1673.016370   \nUnknown_TR                             1709.701022   \nUnknown_UK                             1668.377172   \n\n              external_edges(mean)(mean)(mean)(mean)(mean)  \\\nA__BADEN01                                   210245.420566   \nA__DORNBIR01                                 205463.770916   \nA__EISENST01                                 210253.282222   \nA__EISENST02                                 206867.260783   \nA__EISENST05                                 161073.970264   \n...                                                    ...   \nUnknown_PT                                   207387.619995   \nUnknown_S                                    208622.883814   \nUnknown_SK                                   207096.682984   \nUnknown_TR                                   211067.928832   \nUnknown_UK                                   206274.685201   \n\n              degree(mean)(mean)(mean)(mean)  \\\nA__BADEN01                       1699.885511   \nA__DORNBIR01                     1626.635733   \nA__EISENST01                     1698.765463   \nA__EISENST02                     1653.365976   \nA__EISENST05                     1101.055355   \n...                                      ...   \nUnknown_PT                       1619.344701   \nUnknown_S                        1688.549478   \nUnknown_SK                       1632.423710   \nUnknown_TR                       1727.939663   \nUnknown_UK                       1650.728641   \n\n              external_edges(mean)(mean)(mean)(mean)  \\\nA__BADEN01                             210720.072078   \nA__DORNBIR01                           202783.535678   \nA__EISENST01                           210682.429575   \nA__EISENST02                           205362.206856   \nA__EISENST05                           144992.569685   \n...                                              ...   \nUnknown_PT                             204198.408364   \nUnknown_S                              208855.970320   \nUnknown_SK                             204475.737518   \nUnknown_TR                             212616.379463   \nUnknown_UK                             205290.186587   \n\n              internal_edges(mean)(mean)(mean)(mean)  \\\nA__BADEN01                              67397.308945   \nA__DORNBIR01                            63044.705072   \nA__EISENST01                            67232.535686   \nA__EISENST02                            64437.809384   \nA__EISENST05                            41637.189548   \n...                                              ...   \nUnknown_PT                              63478.334514   \nUnknown_S                               66412.140079   \nUnknown_SK                              63748.802453   \nUnknown_TR                              68718.915432   \nUnknown_UK                              65450.905102   \n\n              degree(mean)(mean)(mean)  external_edges(mean)(mean)(mean)  \\\nA__BADEN01                 1717.851506                     211794.036446   \nA__DORNBIR01               1590.341267                     198713.024794   \nA__EISENST01               1719.519872                     212351.484961   \nA__EISENST02               1622.699514                     202622.223244   \nA__EISENST05                892.030830                     122121.025777   \n...                                ...                               ...   \nUnknown_PT                 1734.342415                     204213.865116   \nUnknown_S                  1666.210834                     207954.065913   \nUnknown_SK                 1643.793282                     203704.794781   \nUnknown_TR                 1736.409611                     215160.235123   \nUnknown_UK                 1678.918499                     205676.591747   \n\n              internal_edges(mean)(mean)(mean)  degree(mean)(mean)  \\\nA__BADEN01                        68317.774239         1608.777610   \nA__DORNBIR01                      60058.160255         1437.912233   \nA__EISENST01                      68137.065929         1648.204066   \nA__EISENST02                      62400.286899         1535.420330   \nA__EISENST05                      32860.682309          648.470329   \n...                                        ...                 ...   \nUnknown_PT                        64870.020103         1173.655820   \nUnknown_S                         65193.704935         1679.190647   \nUnknown_SK                        63248.046741         1332.029418   \nUnknown_TR                        70026.944477         1708.602075   \nUnknown_UK                        66514.573794         1513.621342   \n\n              external_edges(mean)(mean)  internal_edges(mean)(mean)  \\\nA__BADEN01                 206715.453455                64582.825024   \nA__DORNBIR01               186542.147638                52112.456622   \nA__EISENST01               209200.290495                65537.084073   \nA__EISENST02               194790.297502                56162.763884   \nA__EISENST05                95346.336022                22921.336220   \n...                                  ...                         ...   \nUnknown_PT                 181365.858737                46738.115529   \nUnknown_S                  210146.328154                64967.943774   \nUnknown_SK                 186189.638378                51201.882177   \nUnknown_TR                 210250.979242                67770.335687   \nUnknown_UK                 197904.996453                62456.312857   \n\n              degree(mean)  external_edges(mean)  external_edges(sum)  \\\nA__BADEN01     1585.461538         204679.730769            5321673.0   \nA__DORNBIR01   1448.415584         179306.441558           13806596.0   \nA__EISENST01   1607.000000         228664.555556            2057981.0   \nA__EISENST02   1603.233333         198982.500000           11938950.0   \nA__EISENST05    206.029412          43993.000000            1495762.0   \n...                    ...                   ...                  ...   \nUnknown_PT     2768.571429         187067.785714            2618949.0   \nUnknown_S      1489.396985         202813.321608           40359851.0   \nUnknown_SK     1462.500000         244897.500000             979590.0   \nUnknown_TR     1196.500000         218007.750000             872031.0   \nUnknown_UK     1714.750000         202874.900000            4057498.0   \n\n              internal_edges(mean)  internal_edges(sum)  degree  \\\nA__BADEN01            65961.923077            1715010.0    63.0   \nA__DORNBIR01          41890.220779            3225547.0   417.0   \nA__EISENST01          76171.111111             685540.0    50.0   \nA__EISENST02          56424.650000            3385479.0   264.0   \nA__EISENST05           5312.058824             180610.0    68.0   \n...                            ...                  ...     ...   \nUnknown_PT            68620.928571             960693.0    39.0   \nUnknown_S             53988.286432           10743669.0   539.0   \nUnknown_SK            72852.000000             291408.0     4.0   \nUnknown_TR            85016.000000             340064.0     6.0   \nUnknown_UK            76905.000000            1538100.0    34.0   \n\n              external_edges  internal_edges  \nA__BADEN01           40081.0           602.0  \nA__DORNBIR01        101251.0          5347.0  \nA__EISENST01         14303.0           105.0  \nA__EISENST02         88950.0          3754.0  \nA__EISENST05          6807.0           133.0  \n...                      ...             ...  \nUnknown_PT           38623.0            88.0  \nUnknown_S           229863.0         33533.0  \nUnknown_SK            5826.0            14.0  \nUnknown_TR            4778.0             7.0  \nUnknown_UK           33535.0           397.0  \n\n[3292 rows x 19 columns]\n"
     ]
    }
   ],
   "source": [
    "print(f'\\nFeatures extracted from {feature_extractor.generation_count} recursive generations:')\n",
    "print(features)"
   ]
  },
  {
   "cell_type": "code",
   "execution_count": 5,
   "metadata": {
    "tags": [
     "outputPrepend"
    ]
   },
   "outputs": [
    {
     "output_type": "stream",
     "name": "stderr",
     "text": [
      "description_length.py:56: RuntimeWarning: divide by zero encountered in log\n",
      "  kl_div = np.sum(np.where(vec1 != 0, vec1 * np.log(vec1 / vec2) - vec1 + vec2, 0))\n",
      "/home/david/.pyenv/versions/rolx/lib/python3.7/site-packages/graphrole/roles/description_length.py:56: RuntimeWarning: invalid value encountered in multiply\n",
      "  kl_div = np.sum(np.where(vec1 != 0, vec1 * np.log(vec1 / vec2) - vec1 + vec2, 0))\n",
      "/home/david/.pyenv/versions/rolx/lib/python3.7/site-packages/graphrole/roles/description_length.py:56: RuntimeWarning: divide by zero encountered in log\n",
      "  kl_div = np.sum(np.where(vec1 != 0, vec1 * np.log(vec1 / vec2) - vec1 + vec2, 0))\n",
      "/home/david/.pyenv/versions/rolx/lib/python3.7/site-packages/graphrole/roles/description_length.py:56: RuntimeWarning: invalid value encountered in multiply\n",
      "  kl_div = np.sum(np.where(vec1 != 0, vec1 * np.log(vec1 / vec2) - vec1 + vec2, 0))\n",
      "/home/david/.pyenv/versions/rolx/lib/python3.7/site-packages/graphrole/roles/description_length.py:56: RuntimeWarning: divide by zero encountered in log\n",
      "  kl_div = np.sum(np.where(vec1 != 0, vec1 * np.log(vec1 / vec2) - vec1 + vec2, 0))\n",
      "/home/david/.pyenv/versions/rolx/lib/python3.7/site-packages/graphrole/roles/description_length.py:56: RuntimeWarning: invalid value encountered in multiply\n",
      "  kl_div = np.sum(np.where(vec1 != 0, vec1 * np.log(vec1 / vec2) - vec1 + vec2, 0))\n",
      "/home/david/.pyenv/versions/rolx/lib/python3.7/site-packages/graphrole/roles/description_length.py:56: RuntimeWarning: divide by zero encountered in log\n",
      "  kl_div = np.sum(np.where(vec1 != 0, vec1 * np.log(vec1 / vec2) - vec1 + vec2, 0))\n",
      "/home/david/.pyenv/versions/rolx/lib/python3.7/site-packages/graphrole/roles/description_length.py:56: RuntimeWarning: invalid value encountered in multiply\n",
      "  kl_div = np.sum(np.where(vec1 != 0, vec1 * np.log(vec1 / vec2) - vec1 + vec2, 0))\n",
      "/home/david/.pyenv/versions/rolx/lib/python3.7/site-packages/graphrole/roles/description_length.py:56: RuntimeWarning: divide by zero encountered in log\n",
      "  kl_div = np.sum(np.where(vec1 != 0, vec1 * np.log(vec1 / vec2) - vec1 + vec2, 0))\n",
      "/home/david/.pyenv/versions/rolx/lib/python3.7/site-packages/graphrole/roles/description_length.py:56: RuntimeWarning: invalid value encountered in multiply\n",
      "  kl_div = np.sum(np.where(vec1 != 0, vec1 * np.log(vec1 / vec2) - vec1 + vec2, 0))\n",
      "/home/david/.pyenv/versions/rolx/lib/python3.7/site-packages/graphrole/roles/description_length.py:56: RuntimeWarning: divide by zero encountered in log\n",
      "  kl_div = np.sum(np.where(vec1 != 0, vec1 * np.log(vec1 / vec2) - vec1 + vec2, 0))\n",
      "/home/david/.pyenv/versions/rolx/lib/python3.7/site-packages/graphrole/roles/description_length.py:56: RuntimeWarning: invalid value encountered in multiply\n",
      "  kl_div = np.sum(np.where(vec1 != 0, vec1 * np.log(vec1 / vec2) - vec1 + vec2, 0))\n",
      "/home/david/.pyenv/versions/rolx/lib/python3.7/site-packages/graphrole/roles/description_length.py:56: RuntimeWarning: divide by zero encountered in log\n",
      "  kl_div = np.sum(np.where(vec1 != 0, vec1 * np.log(vec1 / vec2) - vec1 + vec2, 0))\n",
      "/home/david/.pyenv/versions/rolx/lib/python3.7/site-packages/graphrole/roles/description_length.py:56: RuntimeWarning: invalid value encountered in multiply\n",
      "  kl_div = np.sum(np.where(vec1 != 0, vec1 * np.log(vec1 / vec2) - vec1 + vec2, 0))\n",
      "/home/david/.pyenv/versions/rolx/lib/python3.7/site-packages/graphrole/roles/description_length.py:56: RuntimeWarning: divide by zero encountered in log\n",
      "  kl_div = np.sum(np.where(vec1 != 0, vec1 * np.log(vec1 / vec2) - vec1 + vec2, 0))\n",
      "/home/david/.pyenv/versions/rolx/lib/python3.7/site-packages/graphrole/roles/description_length.py:56: RuntimeWarning: invalid value encountered in multiply\n",
      "  kl_div = np.sum(np.where(vec1 != 0, vec1 * np.log(vec1 / vec2) - vec1 + vec2, 0))\n",
      "/home/david/.pyenv/versions/rolx/lib/python3.7/site-packages/graphrole/roles/description_length.py:56: RuntimeWarning: divide by zero encountered in log\n",
      "  kl_div = np.sum(np.where(vec1 != 0, vec1 * np.log(vec1 / vec2) - vec1 + vec2, 0))\n",
      "/home/david/.pyenv/versions/rolx/lib/python3.7/site-packages/graphrole/roles/description_length.py:56: RuntimeWarning: invalid value encountered in multiply\n",
      "  kl_div = np.sum(np.where(vec1 != 0, vec1 * np.log(vec1 / vec2) - vec1 + vec2, 0))\n",
      "/home/david/.pyenv/versions/rolx/lib/python3.7/site-packages/graphrole/roles/description_length.py:56: RuntimeWarning: divide by zero encountered in log\n",
      "  kl_div = np.sum(np.where(vec1 != 0, vec1 * np.log(vec1 / vec2) - vec1 + vec2, 0))\n",
      "/home/david/.pyenv/versions/rolx/lib/python3.7/site-packages/graphrole/roles/description_length.py:56: RuntimeWarning: invalid value encountered in multiply\n",
      "  kl_div = np.sum(np.where(vec1 != 0, vec1 * np.log(vec1 / vec2) - vec1 + vec2, 0))\n",
      "/home/david/.pyenv/versions/rolx/lib/python3.7/site-packages/graphrole/roles/description_length.py:56: RuntimeWarning: divide by zero encountered in log\n",
      "  kl_div = np.sum(np.where(vec1 != 0, vec1 * np.log(vec1 / vec2) - vec1 + vec2, 0))\n",
      "/home/david/.pyenv/versions/rolx/lib/python3.7/site-packages/graphrole/roles/description_length.py:56: RuntimeWarning: invalid value encountered in multiply\n",
      "  kl_div = np.sum(np.where(vec1 != 0, vec1 * np.log(vec1 / vec2) - vec1 + vec2, 0))\n",
      "/home/david/.pyenv/versions/rolx/lib/python3.7/site-packages/graphrole/roles/description_length.py:56: RuntimeWarning: divide by zero encountered in log\n",
      "  kl_div = np.sum(np.where(vec1 != 0, vec1 * np.log(vec1 / vec2) - vec1 + vec2, 0))\n",
      "/home/david/.pyenv/versions/rolx/lib/python3.7/site-packages/graphrole/roles/description_length.py:56: RuntimeWarning: invalid value encountered in multiply\n",
      "  kl_div = np.sum(np.where(vec1 != 0, vec1 * np.log(vec1 / vec2) - vec1 + vec2, 0))\n",
      "/home/david/.pyenv/versions/rolx/lib/python3.7/site-packages/graphrole/roles/description_length.py:56: RuntimeWarning: divide by zero encountered in log\n",
      "  kl_div = np.sum(np.where(vec1 != 0, vec1 * np.log(vec1 / vec2) - vec1 + vec2, 0))\n",
      "/home/david/.pyenv/versions/rolx/lib/python3.7/site-packages/graphrole/roles/description_length.py:56: RuntimeWarning: invalid value encountered in multiply\n",
      "  kl_div = np.sum(np.where(vec1 != 0, vec1 * np.log(vec1 / vec2) - vec1 + vec2, 0))\n",
      "/home/david/.pyenv/versions/rolx/lib/python3.7/site-packages/graphrole/roles/description_length.py:56: RuntimeWarning: divide by zero encountered in log\n",
      "  kl_div = np.sum(np.where(vec1 != 0, vec1 * np.log(vec1 / vec2) - vec1 + vec2, 0))\n",
      "/home/david/.pyenv/versions/rolx/lib/python3.7/site-packages/graphrole/roles/description_length.py:56: RuntimeWarning: invalid value encountered in multiply\n",
      "  kl_div = np.sum(np.where(vec1 != 0, vec1 * np.log(vec1 / vec2) - vec1 + vec2, 0))\n",
      "/home/david/.pyenv/versions/rolx/lib/python3.7/site-packages/graphrole/roles/description_length.py:56: RuntimeWarning: divide by zero encountered in log\n",
      "  kl_div = np.sum(np.where(vec1 != 0, vec1 * np.log(vec1 / vec2) - vec1 + vec2, 0))\n",
      "/home/david/.pyenv/versions/rolx/lib/python3.7/site-packages/graphrole/roles/description_length.py:56: RuntimeWarning: invalid value encountered in multiply\n",
      "  kl_div = np.sum(np.where(vec1 != 0, vec1 * np.log(vec1 / vec2) - vec1 + vec2, 0))\n",
      "/home/david/.pyenv/versions/rolx/lib/python3.7/site-packages/graphrole/roles/description_length.py:56: RuntimeWarning: divide by zero encountered in log\n",
      "  kl_div = np.sum(np.where(vec1 != 0, vec1 * np.log(vec1 / vec2) - vec1 + vec2, 0))\n",
      "/home/david/.pyenv/versions/rolx/lib/python3.7/site-packages/graphrole/roles/description_length.py:56: RuntimeWarning: invalid value encountered in multiply\n",
      "  kl_div = np.sum(np.where(vec1 != 0, vec1 * np.log(vec1 / vec2) - vec1 + vec2, 0))\n",
      "/home/david/.pyenv/versions/rolx/lib/python3.7/site-packages/graphrole/roles/description_length.py:56: RuntimeWarning: divide by zero encountered in log\n",
      "  kl_div = np.sum(np.where(vec1 != 0, vec1 * np.log(vec1 / vec2) - vec1 + vec2, 0))\n",
      "/home/david/.pyenv/versions/rolx/lib/python3.7/site-packages/graphrole/roles/description_length.py:56: RuntimeWarning: invalid value encountered in multiply\n",
      "  kl_div = np.sum(np.where(vec1 != 0, vec1 * np.log(vec1 / vec2) - vec1 + vec2, 0))\n",
      "/home/david/.pyenv/versions/rolx/lib/python3.7/site-packages/graphrole/roles/description_length.py:56: RuntimeWarning: divide by zero encountered in log\n",
      "  kl_div = np.sum(np.where(vec1 != 0, vec1 * np.log(vec1 / vec2) - vec1 + vec2, 0))\n",
      "/home/david/.pyenv/versions/rolx/lib/python3.7/site-packages/graphrole/roles/description_length.py:56: RuntimeWarning: invalid value encountered in multiply\n",
      "  kl_div = np.sum(np.where(vec1 != 0, vec1 * np.log(vec1 / vec2) - vec1 + vec2, 0))\n",
      "/home/david/.pyenv/versions/rolx/lib/python3.7/site-packages/graphrole/roles/description_length.py:56: RuntimeWarning: divide by zero encountered in log\n",
      "  kl_div = np.sum(np.where(vec1 != 0, vec1 * np.log(vec1 / vec2) - vec1 + vec2, 0))\n",
      "/home/david/.pyenv/versions/rolx/lib/python3.7/site-packages/graphrole/roles/description_length.py:56: RuntimeWarning: invalid value encountered in multiply\n",
      "  kl_div = np.sum(np.where(vec1 != 0, vec1 * np.log(vec1 / vec2) - vec1 + vec2, 0))\n",
      "/home/david/.pyenv/versions/rolx/lib/python3.7/site-packages/graphrole/roles/description_length.py:56: RuntimeWarning: divide by zero encountered in log\n",
      "  kl_div = np.sum(np.where(vec1 != 0, vec1 * np.log(vec1 / vec2) - vec1 + vec2, 0))\n",
      "/home/david/.pyenv/versions/rolx/lib/python3.7/site-packages/graphrole/roles/description_length.py:56: RuntimeWarning: invalid value encountered in multiply\n",
      "  kl_div = np.sum(np.where(vec1 != 0, vec1 * np.log(vec1 / vec2) - vec1 + vec2, 0))\n",
      "/home/david/.pyenv/versions/rolx/lib/python3.7/site-packages/graphrole/roles/description_length.py:56: RuntimeWarning: divide by zero encountered in log\n",
      "  kl_div = np.sum(np.where(vec1 != 0, vec1 * np.log(vec1 / vec2) - vec1 + vec2, 0))\n",
      "/home/david/.pyenv/versions/rolx/lib/python3.7/site-packages/graphrole/roles/description_length.py:56: RuntimeWarning: invalid value encountered in multiply\n",
      "  kl_div = np.sum(np.where(vec1 != 0, vec1 * np.log(vec1 / vec2) - vec1 + vec2, 0))\n",
      "/home/david/.pyenv/versions/rolx/lib/python3.7/site-packages/graphrole/roles/description_length.py:56: RuntimeWarning: divide by zero encountered in log\n",
      "  kl_div = np.sum(np.where(vec1 != 0, vec1 * np.log(vec1 / vec2) - vec1 + vec2, 0))\n",
      "/home/david/.pyenv/versions/rolx/lib/python3.7/site-packages/graphrole/roles/description_length.py:56: RuntimeWarning: invalid value encountered in multiply\n",
      "  kl_div = np.sum(np.where(vec1 != 0, vec1 * np.log(vec1 / vec2) - vec1 + vec2, 0))\n",
      "/home/david/.pyenv/versions/rolx/lib/python3.7/site-packages/graphrole/roles/description_length.py:56: RuntimeWarning: divide by zero encountered in log\n",
      "  kl_div = np.sum(np.where(vec1 != 0, vec1 * np.log(vec1 / vec2) - vec1 + vec2, 0))\n",
      "/home/david/.pyenv/versions/rolx/lib/python3.7/site-packages/graphrole/roles/description_length.py:56: RuntimeWarning: invalid value encountered in multiply\n",
      "  kl_div = np.sum(np.where(vec1 != 0, vec1 * np.log(vec1 / vec2) - vec1 + vec2, 0))\n",
      "/home/david/.pyenv/versions/rolx/lib/python3.7/site-packages/graphrole/roles/description_length.py:56: RuntimeWarning: divide by zero encountered in log\n",
      "  kl_div = np.sum(np.where(vec1 != 0, vec1 * np.log(vec1 / vec2) - vec1 + vec2, 0))\n",
      "/home/david/.pyenv/versions/rolx/lib/python3.7/site-packages/graphrole/roles/description_length.py:56: RuntimeWarning: invalid value encountered in multiply\n",
      "  kl_div = np.sum(np.where(vec1 != 0, vec1 * np.log(vec1 / vec2) - vec1 + vec2, 0))\n",
      "/home/david/.pyenv/versions/rolx/lib/python3.7/site-packages/graphrole/roles/description_length.py:56: RuntimeWarning: divide by zero encountered in log\n",
      "  kl_div = np.sum(np.where(vec1 != 0, vec1 * np.log(vec1 / vec2) - vec1 + vec2, 0))\n",
      "/home/david/.pyenv/versions/rolx/lib/python3.7/site-packages/graphrole/roles/description_length.py:56: RuntimeWarning: invalid value encountered in multiply\n",
      "  kl_div = np.sum(np.where(vec1 != 0, vec1 * np.log(vec1 / vec2) - vec1 + vec2, 0))\n",
      "/home/david/.pyenv/versions/rolx/lib/python3.7/site-packages/graphrole/roles/description_length.py:56: RuntimeWarning: divide by zero encountered in log\n",
      "  kl_div = np.sum(np.where(vec1 != 0, vec1 * np.log(vec1 / vec2) - vec1 + vec2, 0))\n",
      "/home/david/.pyenv/versions/rolx/lib/python3.7/site-packages/graphrole/roles/description_length.py:56: RuntimeWarning: invalid value encountered in multiply\n",
      "  kl_div = np.sum(np.where(vec1 != 0, vec1 * np.log(vec1 / vec2) - vec1 + vec2, 0))\n",
      "/home/david/.pyenv/versions/rolx/lib/python3.7/site-packages/graphrole/roles/description_length.py:56: RuntimeWarning: divide by zero encountered in log\n",
      "  kl_div = np.sum(np.where(vec1 != 0, vec1 * np.log(vec1 / vec2) - vec1 + vec2, 0))\n",
      "/home/david/.pyenv/versions/rolx/lib/python3.7/site-packages/graphrole/roles/description_length.py:56: RuntimeWarning: invalid value encountered in multiply\n",
      "  kl_div = np.sum(np.where(vec1 != 0, vec1 * np.log(vec1 / vec2) - vec1 + vec2, 0))\n",
      "/home/david/.pyenv/versions/rolx/lib/python3.7/site-packages/graphrole/roles/description_length.py:56: RuntimeWarning: divide by zero encountered in log\n",
      "  kl_div = np.sum(np.where(vec1 != 0, vec1 * np.log(vec1 / vec2) - vec1 + vec2, 0))\n",
      "/home/david/.pyenv/versions/rolx/lib/python3.7/site-packages/graphrole/roles/description_length.py:56: RuntimeWarning: invalid value encountered in multiply\n",
      "  kl_div = np.sum(np.where(vec1 != 0, vec1 * np.log(vec1 / vec2) - vec1 + vec2, 0))\n",
      "/home/david/.pyenv/versions/rolx/lib/python3.7/site-packages/graphrole/roles/description_length.py:56: RuntimeWarning: divide by zero encountered in log\n",
      "  kl_div = np.sum(np.where(vec1 != 0, vec1 * np.log(vec1 / vec2) - vec1 + vec2, 0))\n",
      "/home/david/.pyenv/versions/rolx/lib/python3.7/site-packages/graphrole/roles/description_length.py:56: RuntimeWarning: invalid value encountered in multiply\n",
      "  kl_div = np.sum(np.where(vec1 != 0, vec1 * np.log(vec1 / vec2) - vec1 + vec2, 0))\n",
      "/home/david/.pyenv/versions/rolx/lib/python3.7/site-packages/graphrole/roles/description_length.py:56: RuntimeWarning: divide by zero encountered in log\n",
      "  kl_div = np.sum(np.where(vec1 != 0, vec1 * np.log(vec1 / vec2) - vec1 + vec2, 0))\n",
      "/home/david/.pyenv/versions/rolx/lib/python3.7/site-packages/graphrole/roles/description_length.py:56: RuntimeWarning: invalid value encountered in multiply\n",
      "  kl_div = np.sum(np.where(vec1 != 0, vec1 * np.log(vec1 / vec2) - vec1 + vec2, 0))\n",
      "/home/david/.pyenv/versions/rolx/lib/python3.7/site-packages/graphrole/roles/description_length.py:56: RuntimeWarning: divide by zero encountered in log\n",
      "  kl_div = np.sum(np.where(vec1 != 0, vec1 * np.log(vec1 / vec2) - vec1 + vec2, 0))\n",
      "/home/david/.pyenv/versions/rolx/lib/python3.7/site-packages/graphrole/roles/description_length.py:56: RuntimeWarning: invalid value encountered in multiply\n",
      "  kl_div = np.sum(np.where(vec1 != 0, vec1 * np.log(vec1 / vec2) - vec1 + vec2, 0))\n",
      "/home/david/.pyenv/versions/rolx/lib/python3.7/site-packages/graphrole/roles/description_length.py:56: RuntimeWarning: divide by zero encountered in log\n",
      "  kl_div = np.sum(np.where(vec1 != 0, vec1 * np.log(vec1 / vec2) - vec1 + vec2, 0))\n",
      "/home/david/.pyenv/versions/rolx/lib/python3.7/site-packages/graphrole/roles/description_length.py:56: RuntimeWarning: invalid value encountered in multiply\n",
      "  kl_div = np.sum(np.where(vec1 != 0, vec1 * np.log(vec1 / vec2) - vec1 + vec2, 0))\n",
      "/home/david/.pyenv/versions/rolx/lib/python3.7/site-packages/graphrole/roles/description_length.py:56: RuntimeWarning: divide by zero encountered in log\n",
      "  kl_div = np.sum(np.where(vec1 != 0, vec1 * np.log(vec1 / vec2) - vec1 + vec2, 0))\n",
      "/home/david/.pyenv/versions/rolx/lib/python3.7/site-packages/graphrole/roles/description_length.py:56: RuntimeWarning: invalid value encountered in multiply\n",
      "  kl_div = np.sum(np.where(vec1 != 0, vec1 * np.log(vec1 / vec2) - vec1 + vec2, 0))\n",
      "/home/david/.pyenv/versions/rolx/lib/python3.7/site-packages/graphrole/roles/description_length.py:56: RuntimeWarning: divide by zero encountered in log\n",
      "  kl_div = np.sum(np.where(vec1 != 0, vec1 * np.log(vec1 / vec2) - vec1 + vec2, 0))\n",
      "/home/david/.pyenv/versions/rolx/lib/python3.7/site-packages/graphrole/roles/description_length.py:56: RuntimeWarning: invalid value encountered in multiply\n",
      "  kl_div = np.sum(np.where(vec1 != 0, vec1 * np.log(vec1 / vec2) - vec1 + vec2, 0))\n",
      "/home/david/.pyenv/versions/rolx/lib/python3.7/site-packages/graphrole/roles/description_length.py:56: RuntimeWarning: divide by zero encountered in log\n",
      "  kl_div = np.sum(np.where(vec1 != 0, vec1 * np.log(vec1 / vec2) - vec1 + vec2, 0))\n",
      "/home/david/.pyenv/versions/rolx/lib/python3.7/site-packages/graphrole/roles/description_length.py:56: RuntimeWarning: invalid value encountered in multiply\n",
      "  kl_div = np.sum(np.where(vec1 != 0, vec1 * np.log(vec1 / vec2) - vec1 + vec2, 0))\n",
      "/home/david/.pyenv/versions/rolx/lib/python3.7/site-packages/graphrole/roles/description_length.py:56: RuntimeWarning: divide by zero encountered in log\n",
      "  kl_div = np.sum(np.where(vec1 != 0, vec1 * np.log(vec1 / vec2) - vec1 + vec2, 0))\n",
      "/home/david/.pyenv/versions/rolx/lib/python3.7/site-packages/graphrole/roles/description_length.py:56: RuntimeWarning: invalid value encountered in multiply\n",
      "  kl_div = np.sum(np.where(vec1 != 0, vec1 * np.log(vec1 / vec2) - vec1 + vec2, 0))\n",
      "/home/david/.pyenv/versions/rolx/lib/python3.7/site-packages/graphrole/roles/description_length.py:56: RuntimeWarning: divide by zero encountered in log\n",
      "  kl_div = np.sum(np.where(vec1 != 0, vec1 * np.log(vec1 / vec2) - vec1 + vec2, 0))\n",
      "/home/david/.pyenv/versions/rolx/lib/python3.7/site-packages/graphrole/roles/description_length.py:56: RuntimeWarning: invalid value encountered in multiply\n",
      "  kl_div = np.sum(np.where(vec1 != 0, vec1 * np.log(vec1 / vec2) - vec1 + vec2, 0))\n",
      "/home/david/.pyenv/versions/rolx/lib/python3.7/site-packages/graphrole/roles/description_length.py:56: RuntimeWarning: divide by zero encountered in log\n",
      "  kl_div = np.sum(np.where(vec1 != 0, vec1 * np.log(vec1 / vec2) - vec1 + vec2, 0))\n",
      "/home/david/.pyenv/versions/rolx/lib/python3.7/site-packages/graphrole/roles/description_length.py:56: RuntimeWarning: invalid value encountered in multiply\n",
      "  kl_div = np.sum(np.where(vec1 != 0, vec1 * np.log(vec1 / vec2) - vec1 + vec2, 0))\n",
      "/home/david/.pyenv/versions/rolx/lib/python3.7/site-packages/graphrole/roles/description_length.py:56: RuntimeWarning: divide by zero encountered in log\n",
      "  kl_div = np.sum(np.where(vec1 != 0, vec1 * np.log(vec1 / vec2) - vec1 + vec2, 0))\n",
      "/home/david/.pyenv/versions/rolx/lib/python3.7/site-packages/graphrole/roles/description_length.py:56: RuntimeWarning: invalid value encountered in multiply\n",
      "  kl_div = np.sum(np.where(vec1 != 0, vec1 * np.log(vec1 / vec2) - vec1 + vec2, 0))\n",
      "/home/david/.pyenv/versions/rolx/lib/python3.7/site-packages/graphrole/roles/description_length.py:56: RuntimeWarning: divide by zero encountered in log\n",
      "  kl_div = np.sum(np.where(vec1 != 0, vec1 * np.log(vec1 / vec2) - vec1 + vec2, 0))\n",
      "/home/david/.pyenv/versions/rolx/lib/python3.7/site-packages/graphrole/roles/description_length.py:56: RuntimeWarning: invalid value encountered in multiply\n",
      "  kl_div = np.sum(np.where(vec1 != 0, vec1 * np.log(vec1 / vec2) - vec1 + vec2, 0))\n",
      "/home/david/.pyenv/versions/rolx/lib/python3.7/site-packages/graphrole/roles/description_length.py:56: RuntimeWarning: divide by zero encountered in log\n",
      "  kl_div = np.sum(np.where(vec1 != 0, vec1 * np.log(vec1 / vec2) - vec1 + vec2, 0))\n",
      "/home/david/.pyenv/versions/rolx/lib/python3.7/site-packages/graphrole/roles/description_length.py:56: RuntimeWarning: invalid value encountered in multiply\n",
      "  kl_div = np.sum(np.where(vec1 != 0, vec1 * np.log(vec1 / vec2) - vec1 + vec2, 0))\n",
      "/home/david/.pyenv/versions/rolx/lib/python3.7/site-packages/graphrole/roles/description_length.py:56: RuntimeWarning: divide by zero encountered in log\n",
      "  kl_div = np.sum(np.where(vec1 != 0, vec1 * np.log(vec1 / vec2) - vec1 + vec2, 0))\n",
      "/home/david/.pyenv/versions/rolx/lib/python3.7/site-packages/graphrole/roles/description_length.py:56: RuntimeWarning: invalid value encountered in multiply\n",
      "  kl_div = np.sum(np.where(vec1 != 0, vec1 * np.log(vec1 / vec2) - vec1 + vec2, 0))\n",
      "\n"
     ]
    }
   ],
   "source": [
    "role_extractor = RoleExtractor(n_roles=None)\n",
    "role_extractor.extract_role_factors(features)\n",
    "node_roles = role_extractor.roles\n",
    "print(\"\")"
   ]
  },
  {
   "cell_type": "code",
   "execution_count": 6,
   "metadata": {
    "tags": []
   },
   "outputs": [
    {
     "output_type": "stream",
     "name": "stdout",
     "text": [
      "\n",
      "Node role membership by percentage:\n",
      "              role_0  role_1  role_2  role_3  role_4  role_5  role_6  role_7\n",
      "A__BADEN01      0.03    0.03    0.03    0.03    0.77    0.03    0.03    0.03\n",
      "A__DORNBIR01    0.01    0.56    0.01    0.01    0.01    0.20    0.20    0.01\n",
      "A__EISENST01    0.12    0.12    0.12    0.12    0.12    0.12    0.12    0.12\n",
      "A__EISENST02    0.01    0.56    0.01    0.01    0.01    0.20    0.20    0.01\n",
      "A__EISENST05    0.12    0.12    0.12    0.12    0.12    0.12    0.12    0.12\n",
      "...              ...     ...     ...     ...     ...     ...     ...     ...\n",
      "Unknown_PT      0.02    0.44    0.02    0.02    0.02    0.02    0.44    0.02\n",
      "Unknown_S       0.00    0.45    0.00    0.00    0.00    0.26    0.00    0.26\n",
      "Unknown_SK      0.12    0.12    0.12    0.12    0.12    0.12    0.12    0.12\n",
      "Unknown_TR      0.12    0.12    0.12    0.12    0.12    0.12    0.12    0.12\n",
      "Unknown_UK      0.12    0.12    0.12    0.12    0.12    0.12    0.12    0.12\n",
      "\n",
      "[3292 rows x 8 columns]\n",
      "Counter({'role_0': 1823,\n",
      "         'role_1': 784,\n",
      "         'role_2': 280,\n",
      "         'role_7': 273,\n",
      "         'role_4': 128,\n",
      "         'role_5': 2,\n",
      "         'role_6': 2})\n"
     ]
    }
   ],
   "source": [
    "# pprint(node_roles)\n",
    "\n",
    "print('\\nNode role membership by percentage:')\n",
    "print(role_extractor.role_percentage.round(2))\n",
    "\n",
    "role_count = Counter(node_roles.values())\n",
    "pprint(role_count)"
   ]
  },
  {
   "cell_type": "code",
   "execution_count": 7,
   "metadata": {},
   "outputs": [],
   "source": [
    "roles_values = list(node_roles.values())\n",
    "features['roles'] = roles_values"
   ]
  },
  {
   "cell_type": "code",
   "execution_count": 8,
   "metadata": {},
   "outputs": [],
   "source": [
    "pr = nx.pagerank(G, alpha=0.9)\n",
    "features[\"pagerank\"] = pr.values()"
   ]
  },
  {
   "cell_type": "code",
   "execution_count": 10,
   "metadata": {},
   "outputs": [],
   "source": [
    "features.to_csv(\"../graphs/node_roles.csv\")"
   ]
  },
  {
   "cell_type": "code",
   "execution_count": null,
   "metadata": {},
   "outputs": [],
   "source": []
  }
 ]
}