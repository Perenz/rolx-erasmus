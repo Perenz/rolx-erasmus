{
 "metadata": {
  "language_info": {
   "codemirror_mode": {
    "name": "ipython",
    "version": 3
   },
   "file_extension": ".py",
   "mimetype": "text/x-python",
   "name": "python",
   "nbconvert_exporter": "python",
   "pygments_lexer": "ipython3",
   "version": 3
  },
  "orig_nbformat": 2
 },
 "nbformat": 4,
 "nbformat_minor": 2,
 "cells": [
  {
   "cell_type": "code",
   "execution_count": 3,
   "metadata": {},
   "outputs": [],
   "source": [
    "import pandas as pd"
   ]
  },
  {
   "cell_type": "code",
   "execution_count": 4,
   "metadata": {},
   "outputs": [],
   "source": [
    "node_roles = pd.read_csv(\"../graphs/node_roles.csv\")"
   ]
  },
  {
   "cell_type": "code",
   "execution_count": 6,
   "metadata": {},
   "outputs": [
    {
     "output_type": "stream",
     "name": "stdout",
     "text": [
      "Index(['Unnamed: 0', 'degree(mean)(mean)(mean)(mean)(mean)',\n       'external_edges(mean)(mean)(mean)(mean)(mean)',\n       'degree(mean)(mean)(mean)(mean)',\n       'external_edges(mean)(mean)(mean)(mean)',\n       'internal_edges(mean)(mean)(mean)(mean)', 'degree(mean)(mean)(mean)',\n       'external_edges(mean)(mean)(mean)', 'internal_edges(mean)(mean)(mean)',\n       'degree(mean)(mean)', 'external_edges(mean)(mean)',\n       'internal_edges(mean)(mean)', 'degree(mean)', 'external_edges(mean)',\n       'external_edges(sum)', 'internal_edges(mean)', 'internal_edges(sum)',\n       'degree', 'external_edges', 'internal_edges', 'roles'],\n      dtype='object')\n"
     ]
    }
   ],
   "source": [
    "print(node_roles.columns)"
   ]
  },
  {
   "cell_type": "code",
   "execution_count": null,
   "metadata": {},
   "outputs": [],
   "source": [
    "print(node_roles.roles)"
   ]
  }
 ]
}